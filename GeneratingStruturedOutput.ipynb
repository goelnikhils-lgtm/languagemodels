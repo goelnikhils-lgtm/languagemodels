{
  "nbformat": 4,
  "nbformat_minor": 0,
  "metadata": {
    "colab": {
      "provenance": [],
      "gpuType": "T4",
      "authorship_tag": "ABX9TyPANw32EuaZWnkYuFW/YIgz",
      "include_colab_link": true
    },
    "kernelspec": {
      "name": "python3",
      "display_name": "Python 3"
    },
    "language_info": {
      "name": "python"
    },
    "accelerator": "GPU"
  },
  "cells": [
    {
      "cell_type": "markdown",
      "metadata": {
        "id": "view-in-github",
        "colab_type": "text"
      },
      "source": [
        "<a href=\"https://colab.research.google.com/github/goelnikhils-lgtm/languagemodels/blob/main/GeneratingStruturedOutput.ipynb\" target=\"_parent\"><img src=\"https://colab.research.google.com/assets/colab-badge.svg\" alt=\"Open In Colab\"/></a>"
      ]
    },
    {
      "cell_type": "code",
      "execution_count": null,
      "metadata": {
        "id": "tKbh_MyPmuKv"
      },
      "outputs": [],
      "source": [
        "!pip install instructor pydantic google-generativeai jsonref"
      ]
    },
    {
      "cell_type": "code",
      "source": [
        "import instructor\n",
        "import google.generativeai as genai\n",
        "from pydantic import BaseModel, Field\n",
        "from enum import Enum\n",
        "from typing import Literal"
      ],
      "metadata": {
        "id": "46B5Ahi0u6wi"
      },
      "execution_count": null,
      "outputs": []
    },
    {
      "cell_type": "code",
      "source": [
        "GOOGLE_API_KEY = \"\"\n",
        "genai.configure(api_key=\"GOOGLE_API_KEY\")"
      ],
      "metadata": {
        "id": "WTCZi1nrvnG4"
      },
      "execution_count": null,
      "outputs": []
    },
    {
      "cell_type": "code",
      "source": [
        "#pyndatic model def\n",
        "class Person(BaseModel):\n",
        "  name:str = Field(max_length= 50)\n",
        "  age:int | str\n",
        "  role:str = Field(description =\"Role of the person in company , ex:developer\")\n",
        "  company:Literal[\"google\",\"microsoft\",\"meta\"]\n",
        "\n",
        "class PeopleExtraction(BaseModel):\n",
        "  reasoning:str = Field(description =\"Based on the provided information , write 'how' will you approach extracting information from the text.\")\n",
        "  people_list: list[Person] = Field(min_length= 3)"
      ],
      "metadata": {
        "id": "1I-SvqEWwIye"
      },
      "execution_count": null,
      "outputs": []
    },
    {
      "cell_type": "code",
      "source": [
        "#initialize gemini client\n",
        "client = instructor.from_gemini(\n",
        "    client = genai.GenerativeModel(model_name =\"models/gemini-2.0-flash\"),\n",
        "    model = instructor.Mode.GEMINI_JSON,\n",
        ")"
      ],
      "metadata": {
        "id": "Gob08kiSyRG1"
      },
      "execution_count": null,
      "outputs": []
    },
    {
      "cell_type": "code",
      "source": [
        "#input text\n",
        "text =\"\"\" Thomas , 34 years old is an aritifical intelligence engineer at google.\n",
        "he spends his day fine tuning models in collaboration with Nikhil , 52 years old , data sceientist at meta,\n",
        "a company that is doing cutting edge AI research.\n",
        "Nikhil ensures he inteacts intutitively with models fine tuned with companies like Thomas\n",
        "\"\"\"\n"
      ],
      "metadata": {
        "id": "KKexMSh_zGTd"
      },
      "execution_count": null,
      "outputs": []
    },
    {
      "cell_type": "code",
      "source": [
        "#prepare the message to extract people\n",
        "message = [\n",
        "    {\n",
        "        \"role\":\"user\",\n",
        "        \"content\":f\"Extract all people mentioned in this text:{text}\"\n",
        "    }\n",
        "\n",
        "]"
      ],
      "metadata": {
        "id": "mAE75M4T0X9t"
      },
      "execution_count": null,
      "outputs": []
    },
    {
      "cell_type": "code",
      "source": [
        "#Extracting people as a generator\n",
        "people_extraction = client.chat.completions.create(\n",
        "    messages = message,\n",
        "    response_model = PeopleExtraction,\n",
        "    max_tries = 2\n",
        ")"
      ],
      "metadata": {
        "id": "sLkPterD0-n5"
      },
      "execution_count": null,
      "outputs": []
    },
    {
      "cell_type": "code",
      "source": [
        "#display the reasoning and the names and roles of the extracted people\n",
        "print(\"Model Reasoning:\\n \")\n",
        "print(people_extraction.reasoning)\n",
        "print(\"\\nList of extracted people:\\n\")\n",
        "for i, person in enumerate(people_extraction.people_list, start =1):\n",
        "  print(f\" Name :{person.name} , Age:{person.age} years old , Role:{person.role} at {person.company}\")\n"
      ],
      "metadata": {
        "id": "u9JF1K0_3htS"
      },
      "execution_count": null,
      "outputs": []
    }
  ]
}