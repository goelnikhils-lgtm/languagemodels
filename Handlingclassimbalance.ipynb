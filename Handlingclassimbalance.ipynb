{
  "nbformat": 4,
  "nbformat_minor": 0,
  "metadata": {
    "colab": {
      "provenance": [],
      "authorship_tag": "ABX9TyMlImZSecKdA0JRp4awv5dE",
      "include_colab_link": true
    },
    "kernelspec": {
      "name": "python3",
      "display_name": "Python 3"
    },
    "language_info": {
      "name": "python"
    }
  },
  "cells": [
    {
      "cell_type": "markdown",
      "metadata": {
        "id": "view-in-github",
        "colab_type": "text"
      },
      "source": [
        "<a href=\"https://colab.research.google.com/github/goelnikhils-lgtm/languagemodels/blob/main/Handlingclassimbalance.ipynb\" target=\"_parent\"><img src=\"https://colab.research.google.com/assets/colab-badge.svg\" alt=\"Open In Colab\"/></a>"
      ]
    },
    {
      "cell_type": "code",
      "execution_count": null,
      "metadata": {
        "id": "UHqy4Mr-rDqP"
      },
      "outputs": [],
      "source": [
        "#example class to handle class imbalance by looking into various samplinb techniques like SMOTE (Minority class over sampling), Stratified Sampling\n",
        "#sampling - 1)random 2)stratified 3)random over and under sampling (SMOTE/(Tomek Sampling))\n",
        "#why do we use F1 as metric to evaluate class imbalance as Precision = tp/tp+fp and Recall = tp/tp+fn\n",
        "#Credit - https://www.geeksforgeeks.org/machine-learning/handling-imbalanced-data-for-classification/"
      ]
    },
    {
      "cell_type": "code",
      "source": [
        "#need to handling class imbalance as -> machine learning models get biased to majority class and that hampers generalization and leads to overfitting\n",
        "#overfitting should be avoided and addressed"
      ],
      "metadata": {
        "id": "bRha2rBprJz9"
      },
      "execution_count": null,
      "outputs": []
    },
    {
      "cell_type": "code",
      "source": [
        "#let's code\n",
        "\n",
        "#case for RandomSampler and balancing the majority and miniority classes\n",
        "#sampling\n",
        "import numpy as np\n",
        "from sklearn.datasets import  make_classification\n",
        "from imblearn.over_sampling import RandomOverSampler, SMOTE\n",
        "from imblearn.under_sampling import RandomUnderSampler\n",
        "from collections import Counter\n",
        "from sklearn.model_selection import train_test_split\n",
        "from sklearn.linear_model import LogisticRegression\n",
        "from sklearn.metrics import f1_score\n",
        "\n",
        "#create a class imbalanced dataset\n",
        "X,y = make_classification(n_classes = 2 , class_sep = 2 , weights = [0.1,0.9],\n",
        "                          n_informative = 3 , n_redundant = 1, flip_y=0,\n",
        "                          n_features = 20,n_clusters_per_class = 1 ,\n",
        "                          n_samples = 1000, random_state = 42)\n",
        "print(\"Original Class Distribution:\", Counter(y))\n",
        "\n",
        "#oversampling using RandomSampler\n",
        "oversample = RandomOverSampler(sampling_strategy = 'minority')\n",
        "x_over, y_over = oversample.fit_resample(X,y)\n",
        "print(\"Random Oversampling Class Distribution:\", Counter(y_over))\n",
        "\n",
        "#undersampling using RandomSampler\n",
        "undersample = RandomUnderSampler(sampling_strategy = 'majority')\n",
        "x_under, y_under = undersample.fit_resample(X,y)\n",
        "#yields a balanced dataset of classes --------------------------------->\n",
        "print(\"Random Undersampling Class Distribution:\", Counter(y_under))"
      ],
      "metadata": {
        "id": "aI1vA5NitmLh"
      },
      "execution_count": null,
      "outputs": []
    },
    {
      "cell_type": "code",
      "source": [
        "from sklearn.datasets import make_classification\n",
        "from sklearn.model_selection import train_test_split\n",
        "from sklearn.ensemble import RandomForestClassifier\n",
        "from imblearn.ensemble import BalancedBaggingClassifier\n",
        "from sklearn.metrics import accuracy_score , classification_report\n",
        "\n",
        "\n",
        "#create a class imbalanced dataset\n",
        "X,y = make_classification(n_classes = 2 , class_sep = 2 , weights = [0.1,0.9],\n",
        "                          n_informative = 3 , n_redundant = 1, flip_y=0,\n",
        "                          n_features = 20,n_clusters_per_class = 1 ,\n",
        "                          n_samples = 1000, random_state = 42)\n",
        "#split the dataset into train and test sets\n",
        "X_train, X_test, y_train, y_test = train_test_split(X,y, test_size = 0.2, random_state = 42)\n",
        "\n",
        "base_classifier = RandomForestClassifier(n_estimators = 100, random_state = 42)\n",
        "\n",
        "#create a Balanaced Bagging Classifier\n",
        "balanced_bagging_classifier = BalancedBaggingClassifier(base_classifier,\n",
        "                                                        n_estimators = 10,\n",
        "                                                        sampling_strategy = 'auto',\n",
        "                                                        replacement = False,\n",
        "                                                        random_state = 42)\n",
        "\n",
        "#fit the model\n",
        "balanced_bagging_classifier.fit(X_train, y_train)\n",
        "\n",
        "#make predictions\n",
        "y_pred = balanced_bagging_classifier.predict(X_test)\n",
        "\n",
        "#evaluate the model\n",
        "accuracy = accuracy_score(y_test, y_pred)\n",
        "print(\"Accuracy:\", accuracy)\n",
        "\n",
        "print(\"Classification Report:\\n\",classification_report(y_test, y_pred))\n",
        "\n"
      ],
      "metadata": {
        "id": "suY1tUf-v_eg"
      },
      "execution_count": null,
      "outputs": []
    },
    {
      "cell_type": "code",
      "source": [
        "#SMOTE\n",
        "#SMOTE uses k-NN for synthetically oversampling the minority class\n",
        "\n",
        "from sklearn.datasets import make_classification\n",
        "from sklearn.model_selection import train_test_split\n",
        "from imblearn.over_sampling import SMOTE\n",
        "from collections import Counter\n",
        "\n",
        "#create an imbalanced dataset\n",
        "#create a class imbalanced dataset\n",
        "X,y = make_classification(n_classes = 2 , class_sep = 2 , weights = [0.1,0.9],\n",
        "                          n_informative = 3 , n_redundant = 1, flip_y=0,\n",
        "                          n_features = 20,n_clusters_per_class = 1 ,\n",
        "                          n_samples = 1000, random_state = 42)\n",
        "#split the dataset into train and test sets\n",
        "X_train, X_test, y_train, y_test = train_test_split(X,y, test_size = 0.2, random_state = 42)\n",
        "\n",
        "#display class distribution before SMOTE\n",
        "print(\"Original Class Distribution before SMOTE:\", Counter(y_train))\n",
        "\n",
        "#apply SMOTE to oversample minority class\n",
        "smote = SMOTE(sampling_strategy = 'auto', random_state = 42)\n",
        "X_train_smote, y_train_smote = smote.fit_resample(X_train, y_train)\n",
        "\n",
        "#display class distribution after SMOTE\n",
        "print(\"Class Distribution after SMOTE:\", Counter(y_train_smote))\n",
        "\n"
      ],
      "metadata": {
        "id": "-TUidyRszhGb"
      },
      "execution_count": null,
      "outputs": []
    },
    {
      "cell_type": "code",
      "source": [
        "#Threshold Moving to handle class imbalance\n",
        "\n",
        "from sklearn.datasets import make_classification\n",
        "from sklearn.model_selection import train_test_split\n",
        "from sklearn.ensemble import RandomForestClassifier\n",
        "from sklearn.metrics import accuracy_score, precision_score, recall_score, f1_score , roc_auc_score\n",
        "\n",
        "#create an imbalance dataset\n",
        "X,y = make_classification(n_classes = 2 , class_sep = 2 , weights = [0.1,0.9],\n",
        "                          n_informative = 3 , n_redundant = 1, flip_y=0,\n",
        "                          n_features = 20,n_clusters_per_class = 1 ,\n",
        "                          n_samples = 1000, random_state = 42)\n",
        "#split the dataset into train and test sets\n",
        "X_train, X_test, y_train, y_test = train_test_split(X,y, test_size = 0.2, random_state = 42)\n",
        "\n",
        "#train a classification model (Random Forest as an example)\n",
        "model = RandomForestClassifier(n_estimators = 100, random_state = 42)\n",
        "model.fit(X_train, y_train)\n",
        "\n",
        "#predit the probabilities\n",
        "y_pred_proba = model.predict_proba(X_test)[:,1]\n",
        "\n",
        "#define a threshold for classification\n",
        "threshold = 0.5\n",
        "\n",
        "#adjust the threshold based on your criteria\n",
        "while threshold >=0:\n",
        "    y_pred = (y_pred_proba >= threshold).astype(int)\n",
        "    f1 = f1_score(y_test, y_pred)\n",
        "    print(f\"Threshold:{threshold:.2f} - F1 Score:{f1:.4f}\")\n",
        "    threshold -= 0.02"
      ],
      "metadata": {
        "id": "4DOu9qzc1F3E"
      },
      "execution_count": null,
      "outputs": []
    },
    {
      "cell_type": "code",
      "source": [
        "#FE - Correlation with dependent , RFE ...\n",
        "#RFE is leveraging models to determine which set of features are most important - in our case in MMM models we used Lasso to do RFE and then used the features in Ridge Regression\n",
        "#Rationale for using RFE is we need to have better accuracy of models with righ features else you have 200 data points\n",
        "#another technique that we used for FE is Correlation between two Covariates and also tested correlation between depdendent and independent variables\n",
        "#Regression is used to model a linear relationship between dependent and independent\n",
        "#Sales is time series data and data points are time series data\n",
        "#glm - - diff is constrained - UB and LB and then use LGBFS to get to tehe coeff\n",
        "#PYMC3 - Hirearchial - is used when you have National Level Spends and you want to measure the impact of that on DMA level and that can't exceed a certain limit\n",
        "#so that is where the usage comes of these models\n",
        "#TTFN are CF .... and are ID based .... and hence to handle cold start (when user or item is new)\n",
        "#the way to handle is map these new users and items to a bucket and that solves - Real Time Recomm Models\n",
        "#Built Next Best Action Recommendation Engine leveraging Two Tower Neural Networks, resulting to 20% uptick in revenue for the Retail and Banking customer\n",
        "#Retrieval Model was batch - generate embeddings and store them in VDB and Index - using FAISS - Bi Encoder\n",
        "#Ranking is online inference - where you rank based on user features\n",
        "#Niche of model is - leveraging customer sequence , comments as ranker.... and we use cross feature interactions  to caluate nuances of item and user interaction\n",
        "#Demand Sensing and Forecasting for a CPG Brand - Soap Category . Signals used were - relatively stable category ....\n",
        "#DF - batch base for every month we do\n",
        "#DS - Orders data (demand) -> Dependent is Demand/ Orders -> : CPG on Amazon\n",
        "#1)Price , Trade Data (0-2% , 2-5% ,>5%) , Marketing Promo(run a campain y/n) . Comp Price, Comp offer. Positive . Negative Sentiments on the product (1/0)\n",
        "#2)Tertiray Sales data (POS sales data from Amazon)\n",
        "#3)Inventory data (supply)\n",
        "#4)Retail inflation\n",
        "#5)Seasonality , Holidays , Trends , Cyclicity is key part ... you take these things out .... detrend , deseasonlize the time series , holidays etc...., Summers etc..\n",
        "#Fourier Transform for cyclicity\n",
        "#price impact as leading indicators\n",
        "#holidays\n",
        "#seasonality - wow seasonality calc - calculated separately ... trend calculated seprately and to make time series stationary we use differencing\n",
        "#6)XGBoost Regression Model - why ? - accuracy - additive model\n",
        "#7)Autocorrelartion - acf and pacf plot ....\n",
        "#took last two years data for forecasting\n",
        "#time window split for CV of model\n",
        "#predicted demand T+7 and T+15 to align to manufacturing cycle\n",
        "#models were refreshed evey week as planning cycle for fortnightly\n",
        "#amazon data streams were available on daily basis\n",
        "#metrics is RMSE , MAPE\n",
        "#exponential smoothing to handle seasonality and trends\n",
        "#we used XGBoost as it was we wanted to have more accuracy .... we compared various methods . used stats - holtwinters etc...\n",
        "#Exogenous variables .... and hence XGBoost"
      ],
      "metadata": {
        "id": "sEdaETIElxdz"
      },
      "execution_count": null,
      "outputs": []
    },
    {
      "cell_type": "code",
      "source": [
        "#bootstrapping for CI for Classification model\n",
        "#boot strapping with replacement\n",
        "#boot strapping is used to estimate true value (mean , SD or Variance) of a population parameter"
      ],
      "metadata": {
        "id": "R1FawqGbPcac"
      },
      "execution_count": null,
      "outputs": []
    },
    {
      "cell_type": "code",
      "source": [
        "#full example of CI\n",
        "import numpy as np\n",
        "from pandas import read_csv\n",
        "from sklearn.utils import resample\n",
        "from sklearn.tree import DecisionTreeClassifier\n",
        "from sklearn.metrics import accuracy_score\n",
        "from matplotlib import pyplot\n",
        "\n",
        "#load dataset\n",
        "data = read_csv('/content/sample_data/pima-indians-diabetes.csv', header=None)\n",
        "values = data.values\n",
        "#configure bootstrap\n",
        "n_iterations = 100\n",
        "n_size = int(len(data) * 0.50)\n",
        "#run bootstrap\n",
        "stats = list()\n",
        "for i in range(n_iterations):\n",
        "  train = resample(values, n_samples=n_size)\n",
        "  test = np.array([x for x in values if x.tolist() not in train.tolist()])\n",
        "  #fit model #running classifier 100 times\n",
        "  model = DecisionTreeClassifier()\n",
        "  #train the model\n",
        "  model.fit(train[:,:-1], train[:,-1])\n",
        "  #evaluate model\n",
        "  predictions = model.predict(test[:,:-1])\n",
        "  #statistics of interest for CI is model accuracy score\n",
        "  score = accuracy_score(test[:,-1], predictions)\n",
        "  #print(score)\n",
        "  stats.append(score)\n",
        "#plot score\n",
        "pyplot.hist(stats)\n",
        "pyplot.show()\n",
        "#calc confidence intervals\n",
        "alpha = 0.95\n",
        "p = ((1-alpha)/2) * 100\n",
        "lower = max(0.0, np.percentile(stats, p))\n",
        "p = (alpha + (1-alpha)/2) * 100\n",
        "upper = min(1.0, np.percentile(stats, p))\n",
        "#95% confidence that model predicions/classification lie in 65% to 72.2%\n",
        "print(\"Confidence Interval %.1f confidence interval %.1f%% and %.1f%% \" % (alpha*100, lower*100, upper*100))\n"
      ],
      "metadata": {
        "id": "4RyFxBLPQsPK",
        "outputId": "abd49b1c-c229-485e-83e4-43668cb5954f",
        "colab": {
          "base_uri": "https://localhost:8080/",
          "height": 448
        }
      },
      "execution_count": null,
      "outputs": [
        {
          "output_type": "display_data",
          "data": {
            "text/plain": [
              "<Figure size 640x480 with 1 Axes>"
            ],
            "image/png": "[encoded data removed]"
          },
          "metadata": {}
        },
        {
          "output_type": "stream",
          "name": "stdout",
          "text": [
            "Confidence Interval 95.0 confidence interval 65.5% and 72.9% \n"
          ]
        }
      ]
    },
    {
      "cell_type": "code",
      "source": [
        "#bootstrapping for CI for regression  model\n",
        "#boot strapping with replacement"
      ],
      "metadata": {
        "id": "AzpBR-3-ZKGp"
      },
      "execution_count": null,
      "outputs": []
    },
    {
      "cell_type": "code",
      "source": [
        "import numpy as np\n",
        "import pandas as pd\n",
        "import statsmodels.api as sm\n",
        "\n",
        "#1.Generate sample data\n",
        "np.random.seed(42)\n",
        "n_samples = 100\n",
        "X = np.random.rand(n_samples,1) *10 #independent variable\n",
        "true_beta_0 = 2 # true intercept\n",
        "true_beta_1 = 0.5 #true slope\n",
        "y = true_beta_0 + true_beta_1 * X + np.random.normal(0,1,n_samples)\n",
        "\n",
        "X_const = sm.add_constant(X)\n",
        "#2. Define no of bootstrap samples\n",
        "n_bootstraps = 1000\n",
        "#3.Intialize a list to store the bootstrapped regression coeff\n",
        "boot_coeffs_list = []\n",
        "\n",
        "#3. Start bootstrapping\n",
        "for i in range(n_bootstraps):\n",
        "    #resample with replacement\n",
        "    indices = np.random.choice(n_samples, n_samples, replace = True)\n",
        "\n",
        "    #create bootstrapped samples\n",
        "    X_bootstrap = X_const[indices]\n",
        "    y_bootstrap = y[indices]\n",
        "\n",
        "    model_boot = sm.OLS(y_bootstrap,X_bootstrap).fit()\n",
        "    boot_coeffs_list.append(model_boot.params)\n",
        "\n",
        "# Convert the list of coefficients to a NumPy array\n",
        "boot_coeffs = np.array(boot_coeffs_list)\n",
        "\n",
        "# Calculate confidence intervals for the coefficients\n",
        "alpha = 0.95\n",
        "p = ((1 - alpha) / 2) * 100\n",
        "lower_bounds = np.percentile(boot_coeffs, p, axis=0)\n",
        "p = (alpha + (1 - alpha) / 2) * 100\n",
        "upper_bounds = np.percentile(boot_coeffs, p, axis=0)\n",
        "\n",
        "# Print the confidence intervals\n",
        "print(f\"{alpha*100:.1f}% Confidence Intervals for Regression Coefficients:\")\n",
        "print(f\"Intercept: [{lower_bounds[0].item():.4f}, {upper_bounds[0].item():.4f}]\")\n",
        "print(f\"Slope: [{lower_bounds[1].item():.4f}, {upper_bounds[1].item():.4f}]\")"
      ],
      "metadata": {
        "id": "4PYL3yFqZOyv"
      },
      "execution_count": null,
      "outputs": []
    },
    {
      "cell_type": "code",
      "source": [
        "#capturing the auto correlation of time series -> this helps in determining the right lag , seasonality and trend for time series.\n",
        "#I used this in demand forrecasting"
      ],
      "metadata": {
        "id": "ao6dD1gG4EUA"
      },
      "execution_count": null,
      "outputs": []
    },
    {
      "cell_type": "code",
      "source": [
        "!pip install statsmodels"
      ],
      "metadata": {
        "id": "EW74GsOY-cHW"
      },
      "execution_count": null,
      "outputs": []
    },
    {
      "cell_type": "code",
      "source": [
        "import pandas as pd\n",
        "import numpy as np\n",
        "import matplotlib.pyplot as plt\n",
        "import statsmodels.api as sm\n",
        "from statsmodels.stats.stattools import durbin_watson\n",
        "from statsmodels.regression.linear_model import OLS\n",
        "from statsmodels.graphics.tsaplots import plot_acf\n",
        "\n",
        "goog_stock_data = pd.read_csv(\"/content/sample_data/google.csv\", header = 0 , index_col = 0)\n",
        "goog_stock_data['Adj Close'].plot()\n",
        "plt.show()"
      ],
      "metadata": {
        "id": "Jf3FY4_D4Kkc",
        "outputId": "0b013054-ca07-479f-b086-ec1ed08d48d9",
        "colab": {
          "base_uri": "https://localhost:8080/",
          "height": 449
        }
      },
      "execution_count": null,
      "outputs": [
        {
          "output_type": "display_data",
          "data": {
            "text/plain": [
              "<Figure size 640x480 with 1 Axes>"
            ],
            "image/png": "[encoded data removed]"
          },
          "metadata": {}
        }
      ]
    },
    {
      "cell_type": "code",
      "source": [
        "#plotting ACF\n",
        "plot_acf(goog_stock_data['Adj Close'], alpha = 0.05) #significance level of autocorrelation\n",
        "plt.show()\n"
      ],
      "metadata": {
        "id": "zriggjlS_xYO",
        "outputId": "a3979ae4-c059-42bf-f3ca-09a3663e33a7",
        "colab": {
          "base_uri": "https://localhost:8080/",
          "height": 452
        }
      },
      "execution_count": null,
      "outputs": [
        {
          "output_type": "display_data",
          "data": {
            "text/plain": [
              "<Figure size 640x480 with 1 Axes>"
            ],
            "image/png": "[encoded data removed]"
          },
          "metadata": {}
        }
      ]
    },
    {
      "cell_type": "code",
      "source": [
        "#TOD-BERT for Task Oriented Dialogue Management - use multitask learning with diff losses ....\n",
        "#sentence transformers use a Multiple Negative Ranking Loss  Formula is = sim(text, positive)/ sim(text , all)\n",
        "#Semi Supervised Manner\n",
        "#import torch\n",
        "import torch.nn as nn\n",
        "from transformers import BertModel\n",
        "\n",
        "class TODBERTMultiTask(nn.Module):\n",
        "    def __init__(self, base_model='bert-base-uncased', num_intents=10, num_acts=15, num_slots=20, num_responses=100):\n",
        "        super().__init__()\n",
        "        self.encoder = BertModel.from_pretrained(base_model)\n",
        "\n",
        "        # Task-specific heads\n",
        "        self.intent_head = nn.Linear(self.encoder.config.hidden_size, num_intents)\n",
        "        self.act_head = nn.Linear(self.encoder.config.hidden_size, num_acts)\n",
        "        self.slot_head = nn.Linear(self.encoder.config.hidden_size, num_slots)\n",
        "        self.response_head = nn.Linear(self.encoder.config.hidden_size, num_responses)\n",
        "\n",
        "    def forward(self, input_ids, attention_mask, task):\n",
        "        outputs = self.encoder(input_ids=input_ids, attention_mask=attention_mask)\n",
        "        cls_embedding = outputs.last_hidden_state[:, 0, :]  # [CLS] token\n",
        "\n",
        "        if task == 'intent':\n",
        "            return self.intent_head(cls_embedding)\n",
        "        elif task == 'act':\n",
        "            return self.act_head(cls_embedding)\n",
        "        elif task == 'slot':\n",
        "            return self.slot_head(cls_embedding)\n",
        "        elif task == 'response':\n",
        "            return self.response_head(cls_embedding)\n",
        "        else:\n",
        "            raise ValueError(\"Unknown task\")\n",
        "\n",
        "# Example training loop\n",
        "def train_step(model, batch, task, criterion_dict, optimizer, weights):\n",
        "    input_ids = batch['input_ids']\n",
        "    attention_mask = batch['attention_mask']\n",
        "    labels = batch['labels']\n",
        "\n",
        "    logits = model(input_ids, attention_mask, task)\n",
        "    loss_fn = criterion_dict[task]\n",
        "    loss = loss_fn(logits, labels)\n",
        "\n",
        "    # Weighted loss (if combining tasks)\n",
        "    weighted_loss = weights[task] * loss\n",
        "\n",
        "    optimizer.zero_grad()\n",
        "    weighted_loss.backward()\n",
        "    optimizer.step()\n",
        "\n",
        "    return weighted_loss.item()"
      ],
      "metadata": {
        "id": "mKy6X_mHDG15"
      },
      "execution_count": null,
      "outputs": []
    },
    {
      "cell_type": "code",
      "source": [
        "#Entropy and Cross Entropy\n",
        "#entropy is the measure of uncertainity in a true probability distribution\n",
        "#cross entropy is the measure of uncertaining in the ditribution given a target distribution\n"
      ],
      "metadata": {
        "id": "TPeHcff_k3Hn"
      },
      "execution_count": null,
      "outputs": []
    }
  ]
}