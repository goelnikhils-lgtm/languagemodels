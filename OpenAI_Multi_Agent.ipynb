{
  "nbformat": 4,
  "nbformat_minor": 0,
  "metadata": {
    "colab": {
      "provenance": [],
      "authorship_tag": "ABX9TyNg2ldILnEmB23aQa5RvVFP",
      "include_colab_link": true
    },
    "kernelspec": {
      "name": "python3",
      "display_name": "Python 3"
    },
    "language_info": {
      "name": "python"
    }
  },
  "cells": [
    {
      "cell_type": "markdown",
      "metadata": {
        "id": "view-in-github",
        "colab_type": "text"
      },
      "source": [
        "<a href=\"https://colab.research.google.com/github/goelnikhils-lgtm/languagemodels/blob/main/OpenAI_Multi_Agent.ipynb\" target=\"_parent\"><img src=\"https://colab.research.google.com/assets/colab-badge.svg\" alt=\"Open In Colab\"/></a>"
      ]
    },
    {
      "cell_type": "code",
      "execution_count": null,
      "metadata": {
        "id": "qp3H0qTye0YM"
      },
      "outputs": [],
      "source": [
        "#agent system built using open AI SDK\n",
        "#code credit -> https://www.youtube.com/watch?v=LuA4DLbZIpI"
      ]
    },
    {
      "cell_type": "code",
      "source": [
        "!pip install agents\n",
        "import os\n",
        "import getpass\n",
        "import openai\n",
        "from dotenv import load_dotenv\n",
        "\n",
        "\n",
        "load_dotenv()\n",
        "\n",
        "openai.api_key = os.getenv(\"OPENAI_API_KEY\")"
      ],
      "metadata": {
        "id": "cM5UffV6e8sY"
      },
      "execution_count": null,
      "outputs": []
    },
    {
      "cell_type": "code",
      "source": [
        "#Setup the Google Calendar Authorization\n",
        "print(\"\\n Follow the instructions above to get your Google Calendar access token.\")\n",
        "os.environ[\"GOOGLE_CALENDAR_ACCESS_TOKEN\"] = getpass.getpass(\"Enter your Google Calendar access token: \")\n"
      ],
      "metadata": {
        "id": "lRFTvaOTfW2J"
      },
      "execution_count": null,
      "outputs": []
    },
    {
      "cell_type": "code",
      "source": [
        "import asyncio\n",
        "import json\n",
        "from datetime import datetime, timedelta\n",
        "from typing import Any, Dict, List, Optional, Union\n",
        "from pydantic import BaseModel\n",
        "from agents import Agent ,HostedMCPTool,WebSearchTool,Runner , ModelSettings\n",
        "from openai.types.shared.reasoning import Reasoning\n"
      ],
      "metadata": {
        "id": "y2cdKTRSgF0C"
      },
      "execution_count": null,
      "outputs": []
    },
    {
      "cell_type": "code",
      "metadata": {
        "id": "10127bd7"
      },
      "source": [
        "#\n",
        "class CalendarEvent(BaseModel):\n",
        "    \"\"\" Represents a calendar event with essential details\"\"\"\n",
        "    title: str\n",
        "    start_time: str\n",
        "    end_time: str\n",
        "    location: Optional[str] = None\n",
        "    attendees: Optional[List[str]] = None\n",
        "    description: Optional[str] = None\n",
        "\n",
        "class ResearchTopic(BaseModel):\n",
        "  \"\"\"A specific topic to research related to an event.\"\"\"\n",
        "  topic: str\n",
        "  relevance:str\n",
        "  search_query:str\n",
        "\n",
        "class EventResearch(BaseModel):\n",
        "  \"\"\" Research Findings for a calendar event\"\"\"\n",
        "  event_title:str\n",
        "  event_type:str\n",
        "  key_topics:List[str]\n",
        "  research_queries:List[ResearchTopic]\n",
        "\n",
        "class PreparationItem(BaseModel):\n",
        "  \"\"\" A specific preparation action item.\"\"\"\n",
        "  action:str\n",
        "  priority:str\n",
        "  time_estimate:List[str]\n",
        "  resources:List[str]\n",
        "\n",
        "class PreparationGuide(BaseModel):\n",
        "  \"\"\" Complete preparation guide for an event.\"\"\"\n",
        "  event_title:str\n",
        "  event_time:str\n",
        "  summary:str\n",
        "  key_insights:List[str]\n",
        "  preparation_checklist:List[PreparationItem]\n",
        "  talking_points:List[str]\n",
        "  questions_to_ask:List[str]\n",
        "  potential_challenges:List[str]\n",
        "  recommended_readings:List[str]"
      ],
      "execution_count": 7,
      "outputs": []
    },
    {
      "cell_type": "code",
      "source": [
        "#Create the Calendar Agent\n",
        "calendar_agent = Agent(\n",
        "    name = \"CalendarAssistant\",\n",
        "    instructions = \"\"\"You are a calendar assistant that helps users fetch and understand their schedule.\n",
        "    When asked about events for a specific day , retrieve all calendar events for that day and provide a clear ,\n",
        "    structured summary of the schedule. Include event titles , times , locations, and attendees.\"\"\",\n",
        "    tools = [\n",
        "        HostedMCPTool(\n",
        "            tool_config = {\n",
        "                \"type\" :  \"mcp\",\n",
        "                \"server_label\" : \"google_calendar\",\n",
        "                \"connector_id\" : \"connector_googlecalendar\",\n",
        "                \"api_key\" : os.getenv(\"GOOGLE_CALENDAR_ACCESS_TOKEN\"),\n",
        "                \"require_approval\":\"never\"\n",
        "            }\n",
        "        )\n",
        "    ],\n",
        "    model =\"gpt-5\",\n",
        ")\n"
      ],
      "metadata": {
        "id": "xU4iwXzujoWD"
      },
      "execution_count": null,
      "outputs": []
    },
    {
      "cell_type": "code",
      "source": [
        "#Create the Event Analyzer Agent\n",
        "event_analyzer_agent = Agent(\n",
        "    name = \"EventAnalyzer\",\n",
        "    instructions = \"\"\"You are an expert at analyzing calendar events to determine what preparation would be required.\n",
        "    Given a calendar event , analyze its title , description , attendees, and context to:\n",
        "    1.Identify the type of event (meeting , presentation , interview , workshop, etc.)\n",
        "    2.Extract key topics that should be researched\n",
        "    3.Generate 3-5 specific ,actionable research queries that would help someone prepare\n",
        "\n",
        "    Focus on practical , relevant research that would actually help in the meeting:\n",
        "    For example:\n",
        "    - For a product meeting: latest features, competitor analysis , user feedback\n",
        "    - For a technical discussion: relevant technologies , best practices , recent developments\n",
        "    - For a client meeting: company background , recent news  , industry trends\n",
        "\n",
        "    Make search queries specific and likely to return useful results.\"\"\",\n",
        "    model =\"gpt-5\",\n",
        "    model_settings = ModelSettings(reasoning = Reasoning(effort = \"medium\")),\n",
        "    output_type = EventResearch # to get structured output from Model. Type Pydantic Class\n",
        ")"
      ],
      "metadata": {
        "id": "1Eseuxznlk7i"
      },
      "execution_count": null,
      "outputs": []
    },
    {
      "cell_type": "code",
      "source": [
        "#Create the Research  Agent\n",
        "research_agent = Agent(\n",
        "    name = \"ResearchAgent\",\n",
        "    instructions = \"\"\"You are research assistant specializing in gathering relevant information for meeting.\n",
        "    Given a search query , perform a comprehensive web search and provide a concise summary of the findings:\n",
        "\n",
        "    Focus on:\n",
        "    - Recent Information (priortize content for last 6 months)\n",
        "    - Authoritative sources\n",
        "    - Practical Insights that would be useful  in a meeting context\n",
        "    - Key , Facts , Trends , and developments\n",
        "\n",
        "    Your summary should be 2-3 paragraphs , highlighting the most important and actionable information.\n",
        "    Always cite sources when possible and note any particularly interesting or surprising findings\"\"\",\n",
        "    model =\"gpt-4.1\",\n",
        "    tools = [WebSearchTool()],\n",
        "    model_settings = ModelSettings(tool_choice = \"required\")\n",
        "    )"
      ],
      "metadata": {
        "id": "6GCCCKiOnscz"
      },
      "execution_count": null,
      "outputs": []
    },
    {
      "cell_type": "code",
      "source": [
        "#Create the Research  Agent\n",
        "preparation_guide_agent = Agent(\n",
        "    name = \"PreparationGuideAgent\",\n",
        "    instructions = \"\"\"You are an expert meeting preparation assistant.\n",
        "    Given event details and research findins create a detailed preparation guide that helps someone:\n",
        "\n",
        "    Your guide should be :\n",
        "    - Practical and actionable with specific steps\n",
        "    - Prioritized by importance and urgency\n",
        "    - Time-conscious (realistic time estimates)\n",
        "    - Comprehensive but not overwhelming\n",
        "\n",
        "    Include:\n",
        "    - A concise summary of what the meeting is about\n",
        "    - Key insights from the research\n",
        "    - Specific preparation actions with time estimates\n",
        "    - Smart talking points based on the research\n",
        "    - Thoughtful questions to ask during the meeting\n",
        "    - Potential challenges or sensitive topics to be aware of\n",
        "    - Links or resources  for deeper reading\n",
        "    Tailor the guide to the specific type of event(presentation , interview , client meeting,etc.).\"\"\",\n",
        "    model =\"gpt-5\",\n",
        "    model_settings = ModelSettings(reasoning = Reasoning(effort = \"high\"),\n",
        "    output_type = PreparationGuide, # to get structured output from Model. Type Pydantic Class\n",
        "    )\n",
        ""
      ],
      "metadata": {
        "id": "ccEB0stMp2N3"
      },
      "execution_count": null,
      "outputs": []
    },
    {
      "cell_type": "code",
      "source": [
        "#orchestrator class\n",
        "class CalendarOrchestrator:\n",
        "  \"\"\" Orchestrates the calendar research workflow. \"\"\"\n",
        "  def __init__(self):\n",
        "    self.calendar_agent = calendar_agent\n",
        "    self.analyzer_agent = event_analyzer_agent\n",
        "    self.research_agent = research_agent\n",
        "    self.preparation_guide_agent = preparation_guide_agent\n",
        "\n",
        "  async def research_event(self,event_info:str) ->dict:\n",
        "      \"\"\"  Research a single calendar event \"\"\"\n",
        "      print(f\"\\n Analyzing event...\")\n",
        "\n",
        "      #Note: Context Engineering - The event_info string provides raw context that gets\n",
        "      #progressively refined through each agent interaction\n",
        "\n",
        "      #Analyze the event to determine research topics\n",
        "      analysis_result = await Runner.run(\n",
        "          self.analyzer_agent,\n",
        "          f\"Analyze this calendar event and determine what research would be helpful:\\n\\n{event_info}\"\n",
        "        )\n",
        "      event_research = analysis_result.final_output_as(EventResearch)\n",
        "\n",
        "      #Note Context Engineering: Parallel research maintains independent context\n",
        "      #for each query while preserving the shared event context, allowing focused\n",
        "      #yet coordinated information gathering\n",
        "\n",
        "      #Perform research on all topics in parallel\n",
        "      print(f\"\\n Researching {len(event_research.research_queries)} topics...\")\n",
        "      research_tasks = []\n",
        "      for topic in event_research.research_queries:\n",
        "        task = asyncio.create_task(\n",
        "            self.perform_research(topic.search_query))\n",
        "        research_tasks.append(task)\n",
        "\n",
        "      research_results = await asyncio.gather(*research_tasks)\n",
        "      #Combine all research into a particular guide\n",
        "      print(f\"\\n Creating Preparation Guide...\")\n",
        "      research_summary = \"\\n\\n\".join([result for result in research_results if result])\n",
        "\n",
        "      #Note Context Engineering: This structured prompt template assembles multiple\n",
        "      #context sources (event details , analysis ,research) into a rich , multi-layered\n",
        "      #context that enables comprehensive synthesis by the guide agent\n",
        "      guide_input = f\"\"\"\n",
        "      Event Details:\n",
        "      {event_info}\n",
        "\n",
        "      Event Analysis:\n",
        "      Type of Event: {event_research.event_type}\n",
        "      Key Topics: {\",\".join(event_research.key_topics)}\n",
        "\n",
        "      Research Findings:\n",
        "      {research_summary}\n",
        "      \"\"\"\n",
        "      #Create the preparation guide\n",
        "      guide_result = await Runner.run(\n",
        "          self.preparation_guide_agent,\n",
        "          guide_input\n",
        "      )\n",
        "      return{\n",
        "          \"event\":event_info,\n",
        "          \"analysis\":event_research,\n",
        "          \"research\":research_results,\n",
        "          \"guide\":guide_result.final_output_as(PreparationGuide)\n",
        "      }\n",
        "  async def perform_research(self,query:str) ->str:\n",
        "    \"\"\" Perform a single research query.\"\"\"\n",
        "    try:\n",
        "      result = await Runner.run(\n",
        "          self.research_agent,\n",
        "          f\"Perform a comprehensive web search and provide a concise summary of the findings:\\n\\n{query}\"\n",
        "      )\n",
        "      return str(result.final_output)\n",
        "    except Exception as e:\n",
        "      print(f\"Research Error: {e}\")\n",
        "      return None\n",
        "\n",
        "  async def prepare_for_date(self,date:str) ->List[dict]:\n",
        "    \"\"\" Perform for all events on a specific date.\"\"\"\n",
        "    #fetch calendar events\n",
        "    calendar_result = await Runner.run(\n",
        "          self.calendar_agent,\n",
        "          f\"Get all my calendar events for {date}. Include event titles , times , locations , attendees :\\n\\n\")\n",
        "    events_text = str(calendar_result.final_output)\n",
        "    #Parse events\n",
        "    if \"no_events\" in events_text.lower() or \"empty\" in events_text.lower():\n",
        "        return []\n",
        "\n",
        "    results = []\n",
        "    result = await self.research_event(events_text)\n",
        "    results.append(result)\n",
        "    return results"
      ],
      "metadata": {
        "id": "50ndNZQNxIMA"
      },
      "execution_count": 14,
      "outputs": []
    },
    {
      "cell_type": "code",
      "source": [
        "#run the agents now\n",
        "orchestrator = CalendarOrchestrator()\n",
        "\n",
        "#get today's date\n",
        "today = datetime.now().strftime(\"%Y-%m-%d\")\n",
        "print(f\"Preparing for events on:{today}\")\n",
        "\n",
        "#run the preparation flow\n",
        "async def run_preparation():\n",
        "  results = await orchestrator.prepare_for_date(today)\n",
        "  if not results:\n",
        "    print(\"No events found for today.\")\n",
        "    return\n",
        "\n",
        "  #Display results for each event\n",
        "  for i , result in enumerate(results,1):\n",
        "    print(f\"\\n {\"=\"*60}\")\n",
        "    print(f\"EVENT {i} PREPARATION GUIDE\")\n",
        "    print(\"=\"*60\")\n",
        "    guide = result[\"guide\"]\n",
        "\n",
        "    print(f\"Event Title: {guide.event_title}\")\n",
        "    print(f\"Event Time: {guide.event_time}\")\n",
        "    print(f\"Summary: {guide.summary}\")\n",
        "\n",
        "    print(f\"Key Insights\")\n",
        "    for insight in guide.key_insights: #Show top 3 insights\n",
        "      print(f\"- {insight}\")\n",
        "\n",
        "    print(f\"Top Preparation Actions\")\n",
        "    for item in guide.preparation_checklist[:3]:\n",
        "      print(f\"[{item.priority.upper()}] {item.action} ({item.time_estimate})\")\n",
        "\n",
        "    print(f\" Suggested Talking Points\")\n",
        "    for point in guide.talking_points[:3]:\n",
        "      print(f\"- {point}\")\n",
        "\n",
        "    print(f\"Questions to Ask\")\n",
        "    for question in guide.questions_to_ask[:3]:\n",
        "      print(f\"- {question}\")\n",
        "\n",
        "#run the async function\n",
        "await run_preparation()\n"
      ],
      "metadata": {
        "id": "i4lTSTse7YJn"
      },
      "execution_count": null,
      "outputs": []
    }
  ]
}