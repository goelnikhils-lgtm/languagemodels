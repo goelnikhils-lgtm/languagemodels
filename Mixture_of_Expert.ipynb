{
  "nbformat": 4,
  "nbformat_minor": 0,
  "metadata": {
    "colab": {
      "provenance": [],
      "authorship_tag": "ABX9TyOQRybXsn9cPPVxBxJa0lHP",
      "include_colab_link": true
    },
    "kernelspec": {
      "name": "python3",
      "display_name": "Python 3"
    },
    "language_info": {
      "name": "python"
    }
  },
  "cells": [
    {
      "cell_type": "markdown",
      "metadata": {
        "id": "view-in-github",
        "colab_type": "text"
      },
      "source": [
        "<a href=\"https://colab.research.google.com/github/goelnikhils-lgtm/languagemodels/blob/main/Mixture_of_Expert.ipynb\" target=\"_parent\"><img src=\"https://colab.research.google.com/assets/colab-badge.svg\" alt=\"Open In Colab\"/></a>"
      ]
    },
    {
      "cell_type": "code",
      "execution_count": null,
      "metadata": {
        "id": "V-0PmuPFqUIS",
        "colab": {
          "base_uri": "https://localhost:8080/"
        },
        "outputId": "5699b941-e1ea-419a-9c1d-91e417437df9"
      },
      "outputs": [
        {
          "output_type": "execute_result",
          "data": {
            "text/plain": [
              "<torch._C.Generator at 0x7f6e6c627e70>"
            ]
          },
          "metadata": {},
          "execution_count": 3
        }
      ],
      "source": [
        "import torch\n",
        "import torch.nn as nn\n",
        "from torch.nn import functional as F\n",
        "torch.manual_seed(42)\n",
        "#optional https://www.youtube.com/watch?v=W7ktPe1HfZs&t=10s"
      ]
    },
    {
      "cell_type": "code",
      "source": [
        "#load dataset\n",
        "!wget https://raw.githubusercontent.com/AviSoori1x/makeMoE/main/input.txt"
      ],
      "metadata": {
        "id": "QemucAiLydZI"
      },
      "execution_count": null,
      "outputs": []
    },
    {
      "cell_type": "code",
      "source": [
        "#STEP 1\n",
        "#Expert Module\n",
        "#every expert is a FF layer neural layer\n",
        "class Expert(nn.Module):\n",
        "  \"\"\"\"An MLP is a single Linear Layer network followed by non-linearity i.e each expert\"\"\"\n",
        "  \"\"\"expansion and contraction layer\"\"\"\n",
        "  \"\"\"n_embd: embedding dimension - The input that comes to MOE is after MHA , Dropout and RMSNorm\"\"\"\n",
        "  def __init__(self,n_embd):\n",
        "    super().__init__()\n",
        "    self.net = nn.Sequential(\n",
        "        nn.Linear(n_embd,4*n_embd), #expansion layer in each MOE\n",
        "        nn.ReLU(),\n",
        "        nn.Linear(4*n_embd,n_embd), #contraction layer\n",
        "        nn.Dropout(dropout),\n",
        "    )\n",
        "  def forward(self,x):\n",
        "    return self.net(x)"
      ],
      "metadata": {
        "id": "8uXeoJmori0M"
      },
      "execution_count": null,
      "outputs": []
    },
    {
      "cell_type": "code",
      "source": [
        "#STEP 2\n",
        "#Routing Module\n",
        "\"\"\"Routing Module\"\"\"\n",
        "num_experts = 3 #no of experts in MOE\n",
        "top_k=2 #every token will be routed to top two experts\n",
        "n_embed = 8 #every token is of 32 embeddings\n",
        "\n",
        "#example MHA output of a simple illustrative example, consider n_embed = 32 , content_length=\n",
        "mh_output = torch.randn(1,4,n_embed) #(B,no of tokens , embed_size of no of tokens)\n",
        "topkgate_linear = nn.Linear(n_embed,num_experts) #nn.Linear(32,4)\n",
        "logits = topkgate_linear(mh_output) #torch.Size([2, 4, 4]) expert selector matrix or logits\n",
        "print(logits)"
      ],
      "metadata": {
        "id": "wKiaJrVawjNi"
      },
      "execution_count": null,
      "outputs": []
    },
    {
      "cell_type": "code",
      "source": [
        "#STEP 3\n",
        "top_k_logits , top_k_indices = logits.topk(top_k,dim=-1) #get top_k experts\n",
        "top_k_logits , top_k_indices\n",
        "print(top_k_logits)\n",
        "print(top_k_indices)"
      ],
      "metadata": {
        "id": "0u0kz5tEyaLr"
      },
      "execution_count": null,
      "outputs": []
    },
    {
      "cell_type": "code",
      "source": [
        "#STEP 4\n",
        "#use -inf and apply Softmax\n",
        "zeros = torch.full_like(logits,float('-inf')) #full_like clones a tensor and fills it with a specified\n",
        "sparse_logits = zeros.scatter(-1,top_k_indices,top_k_logits)\n",
        "sparse_logits"
      ],
      "metadata": {
        "id": "rGq8jl8I1Mce"
      },
      "execution_count": null,
      "outputs": []
    },
    {
      "cell_type": "code",
      "source": [
        "gating_output = F.softmax(sparse_logits,dim=-1)\n",
        "gating_output"
      ],
      "metadata": {
        "id": "b8Cbe67n2kXo"
      },
      "execution_count": null,
      "outputs": []
    },
    {
      "cell_type": "code",
      "source": [
        "#Step 5: Create a class for TopKRouting\n",
        "class TopKRouter(nn.Module):\n",
        "  def __init__(self,n_embed,num_experts,top_k):\n",
        "    super(TopKRouter,self).__init__()\n",
        "    self.top_k = top_k\n",
        "    self.linear = nn.Linear(n_embed,num_experts)\n",
        "\n",
        "  def forward(self,mh_output):\n",
        "    #mh output is the output tensor from multihead self attention block\n",
        "    logits = self.linear(mh_output)\n",
        "    top_k_logits, indices = logits.topk(self.top_k,dim=-1)\n",
        "    zeros = torch.full_like(logits,float('-inf'))\n",
        "    sparse_logits = zeros.scatter(-1,indices,top_k_logits)\n",
        "    router_output = F.softmax(sparse_logits,dim=-1)\n",
        "    return router_output , indices"
      ],
      "metadata": {
        "id": "3ofzTrHk2s_Z"
      },
      "execution_count": null,
      "outputs": []
    },
    {
      "cell_type": "code",
      "source": [
        "#testing this out:\n",
        "num_experts = 3\n",
        "top_k = 2\n",
        "n_embd = 8\n",
        "\n",
        "mh_output = torch.randn(1,4,n_embd) #example input (batchsize,no of tokens,embed_dim_size)\n",
        "top_k_gate = TopKRouter(n_embd,num_experts,top_k)\n",
        "gating_output , indices = top_k_gate(mh_output)\n",
        "gating_output.shape , gating_output , indices"
      ],
      "metadata": {
        "id": "MB8RMY5a6sGV"
      },
      "execution_count": null,
      "outputs": []
    },
    {
      "cell_type": "code",
      "source": [
        "#Step 6\n",
        "#NoisyTopk Routing\n",
        "class NoisyTopkRouter(nn.Module):\n",
        "  def __init__(self,n_embed,num_experts,top_k):\n",
        "    super(NoisyTopkRouter,self).__init__()\n",
        "    self.top_k = top_k\n",
        "    #layer for router logits\n",
        "    self.topkroute_linear = nn.Linear(n_embed,num_experts)\n",
        "    self.noise_linear = nn.Linear(n_embed,num_experts)\n",
        "\n",
        "  def forward(self,mh_ouput):\n",
        "    #mh_output is the output tensor from multihead self attention block\n",
        "    logits = self.topkroute_linear(mh_output)\n",
        "\n",
        "    #Noise logits\n",
        "    noise_logits = self.noise_linear(mh_output)\n",
        "    #Adding scaled unit gaussian noise to the logits\n",
        "    noise = torch.randn_like(logits)*F.softplus(noise_logits)\n",
        "    noisy_logits = logits + noise\n",
        "\n",
        "    top_k_logits, indices = noisy_logits.topk(self.top_k,dim=-1)\n",
        "    zeros = torch.full_like(noisy_logits,float('-inf'))\n",
        "    sparse_logits = zeros.scatter(-1,indices,top_k_logits)\n",
        "    router_output = F.softmax(sparse_logits,dim=-1)\n",
        "    return router_output , indices"
      ],
      "metadata": {
        "id": "6qEElWbm-3Oy"
      },
      "execution_count": null,
      "outputs": []
    },
    {
      "cell_type": "code",
      "source": [
        "#testing this out again\n",
        "num_experts = 3\n",
        "top_k = 2\n",
        "n_embed = 8\n",
        "\n",
        "mh_output = torch.randn(1,4,n_embed) #Example input\n",
        "noisy_topk_gate = NoisyTopkRouter(n_embed,num_experts,top_k)\n",
        "gating_output , indices = noisy_topk_gate(mh_output)\n",
        "gating_output.shape , gating_output , indices\n"
      ],
      "metadata": {
        "id": "EuC2UXa-CKfH"
      },
      "execution_count": null,
      "outputs": []
    },
    {
      "cell_type": "code",
      "source": [
        "#Step 7: Create a Sparse Mixture of Expert (MoE) module\n",
        "class SparseMoE(nn.Module):\n",
        "  def __init__(self,n_embd,num_experts,top_k):\n",
        "    super(SparseMoE,self).__init__()\n",
        "    self.router = NoisyTopkRouter(n_embd,num_experts,top_k)\n",
        "    self.experts = nn.ModuleList([Expert(n_embd) for _ in range(num_experts)])\n",
        "    self.top_k = top_k\n",
        "\n",
        "  def forward(self,x):\n",
        "    gating_output , indices = self.router(x)\n",
        "    final_output = torch.zeros_like(x)\n",
        "\n",
        "    #Reshape inputs for Batch Processing\n",
        "    flat_x = x.view(-1,x.size(-1))\n",
        "    flat_gating_output = gating_output.view(-1,gating_output.size(-1))\n",
        "\n",
        "    #Process each expert in parallel\n",
        "    for i , expert in enumerate(self.experts):\n",
        "      #Create a mask for the inputs where the current expert is in top-k\n",
        "      expert_mask = (indices==i).any(dim=-1)\n",
        "      flat_mask = expert_mask.view(-1)\n",
        "\n",
        "      if flat_mask.any():\n",
        "        expert_input  = flat_x[flat_mask]\n",
        "        expert_output = expert(expert_input)\n",
        "\n",
        "        #Extract and apply gating scores\n",
        "        gating_scores = flat_gating_output[flat_mask,i].unsqueeze(1)\n",
        "        weighted_output = expert_output * gating_scores\n",
        "\n",
        "        #Update final output additively by indexing and adding\n",
        "        final_output[expert_mask] += weighted_output.squeeze(1)\n",
        "    return final_output"
      ],
      "metadata": {
        "id": "T-UL3SDNDrSN"
      },
      "execution_count": null,
      "outputs": []
    },
    {
      "cell_type": "code",
      "source": [
        "#Step 8\n",
        "import torch\n",
        "import torch.nn as nn\n",
        "\n",
        "#let's test this out\n",
        "num_experts = 3\n",
        "top_k = 2\n",
        "n_embed = 8\n",
        "dropout = 0.1\n",
        "\n",
        "mh_output = torch.randn(1,4,n_embed) #example multi-head attention output\n",
        "sparse_moe = SparseMoE(n_embed,num_experts,top_k)\n",
        "final_output = sparse_moe(mh_output)\n",
        "print(\"Shape of the final output:\", final_output.shape)\n",
        "print(\"Final output:\", final_output)"
      ],
      "metadata": {
        "id": "dAKdrDzlJ5kx"
      },
      "execution_count": null,
      "outputs": []
    },
    {
      "cell_type": "code",
      "source": [
        "#Step 8 Putting all together\n",
        "class Expert(nn.Module):\n",
        "  \"\"\"\"An MLP is a single Linear Layer network followed by non-linearity i.e each expert\"\"\"\n",
        "  \"\"\"expansion and contraction layer\"\"\"\n",
        "  \"\"\"n_embd: embedding dimension - The input that comes to MOE is after MHA , Dropout and RMSNorm\"\"\"\n",
        "  def __init__(self,n_embd):\n",
        "    super().__init__()\n",
        "    self.net = nn.Sequential(\n",
        "        nn.Linear(n_embd,4*n_embd), #expansion layer in each MOE\n",
        "        nn.ReLU(),\n",
        "        nn.Linear(4*n_embd,n_embd), #contraction layer\n",
        "        nn.Dropout(dropout),\n",
        "    )\n",
        "  def forward(self,x):\n",
        "    return self.net(x)\n",
        "\n",
        "#Change the above to accomdate noisy top-k gating\n",
        "class NoisyTopkRouter(nn.Module):\n",
        "  def __init__(self,n_embed,num_experts,top_k):\n",
        "    super(NoisyTopkRouter,self).__init__()\n",
        "    self.top_k = top_k\n",
        "    #layer for router logits\n",
        "    self.topkroute_linear = nn.Linear(n_embed,num_experts)\n",
        "    self.noise_linear = nn.Linear(n_embed,num_experts)\n",
        "\n",
        "  def forward(self,mh_ouput):\n",
        "    #mh_output is the output tensor from multihead self attention block\n",
        "    logits = self.topkroute_linear(mh_output)\n",
        "\n",
        "    #Noise logits\n",
        "    noise_logits = self.noise_linear(mh_output)\n",
        "    #Adding scaled unit gaussian noise to the logits\n",
        "    noise = torch.randn_like(logits)*F.softplus(noise_logits)\n",
        "    noisy_logits = logits + noise\n",
        "\n",
        "    top_k_logits, indices = noisy_logits.topk(self.top_k,dim=-1)\n",
        "    zeros = torch.full_like(noisy_logits,float('-inf'))\n",
        "    sparse_logits = zeros.scatter(-1,indices,top_k_logits)\n",
        "    router_output = F.softmax(sparse_logits,dim=-1)\n",
        "    return router_output , indices\n",
        "\n",
        "#Now create the Sparse Mixture of experts module\n",
        "class SparseMoE(nn.Module):\n",
        "  def __init__(self,n_embd,num_experts,top_k):\n",
        "    super(SparseMoE,self).__init__()\n",
        "    self.router = NoisyTopkRouter(n_embd,num_experts,top_k)\n",
        "    self.experts = nn.ModuleList([Expert(n_embd) for _ in range(num_experts)])\n",
        "    self.top_k = top_k\n",
        "\n",
        "  def forward(self,x):\n",
        "    gating_output , indices = self.router(x)\n",
        "    final_output = torch.zeros_like(x)\n",
        "\n",
        "    #Reshape inputs for Batch Processing\n",
        "    flat_x = x.view(-1,x.size(-1))\n",
        "    flat_gating_output = gating_output.view(-1,gating_output.size(-1))\n",
        "\n",
        "    #Process each expert in parallel\n",
        "    for i , expert in enumerate(self.experts):\n",
        "      #Create a mask for the inputs where the current expert is in top-k\n",
        "      expert_mask = (indices==i).any(dim=-1)\n",
        "      flat_mask = expert_mask.view(-1)\n",
        "\n",
        "      if flat_mask.any():\n",
        "        expert_input  = flat_x[flat_mask]\n",
        "        expert_output = expert(expert_input)\n",
        "\n",
        "        #Extract and apply gating scores\n",
        "        gating_scores = flat_gating_output[flat_mask,i].unsqueeze(1)\n",
        "        weighted_output = expert_output * gating_scores\n",
        "\n",
        "        #Update final output additively by indexing and adding\n",
        "        final_output[expert_mask] += weighted_output.squeeze(1)\n",
        "    return final_output"
      ],
      "metadata": {
        "id": "eh9dHKx_Ml9h"
      },
      "execution_count": null,
      "outputs": []
    },
    {
      "cell_type": "code",
      "source": [
        "#Step 9:Code the entire Transformer block: Part 1 MHA\n",
        "class Head(nn.Module):\n",
        "  \"\"\" one head of self attention\"\"\"\n",
        "  def __init__(self,head_size):\n",
        "      super().__init__()\n",
        "      self.key = nn.Linear(n_embd,head_size,bias=False)\n",
        "      self.query = nn.Linear(n_embd,head_size,bias=False)\n",
        "      self.value = nn.Linear(n_embd,head_size,bias=False)\n",
        "      self.register_buffer('tril',torch.tril(torch.ones(block_size,block_size)))\n",
        "      self.dropout = nn.Dropout(dropout)\n",
        "\n",
        "  def forward(self, x):\n",
        "      B,T,C = x.shape\n",
        "      k = self.key(x) # (B,T,C)\n",
        "      q = self.query(x) # (B,T,C)\n",
        "      #compute attention scores (\"affinities\")\n",
        "      wei = q @ k.transpose(-2,-1) * C**-0.5 # (B,T,C) @ (B,C,T) -> (B,T,T)\n",
        "      #causal mask\n",
        "      wei = wei.masked_fill(self.tril[:T,:T]==0,float('-inf')) # (B,T,T)\n",
        "      wei = F.softmax(wei,dim=-1) # (B,T,T)\n",
        "      wei = self.dropout(wei)\n",
        "      #perform the weighted aggregation of the values\n",
        "      v = self.value(x) # (B,T,C)\n",
        "      out = wei @ v # (B,T,T) @ (B,T,C) -> (B,T,C)\n",
        "      return out\n",
        "\n",
        "#Multi Head Attention\n",
        "class MultiHeadAttention(nn.Module):\n",
        "  def __init__(self,num_heads,head_size):\n",
        "    super().__init__()\n",
        "    self.heads = nn.ModuleList([Head(head_size) for _ in range(num_heads)])\n",
        "    self.proj = nn.Linear(n_embd,n_embd)\n",
        "    self.dropout = nn.Dropout(dropout)\n",
        "\n",
        "  def forward(self,x):\n",
        "    out = torch.cat([h(x) for h in self.heads] , dim=-1)\n",
        "    out = self.dropout(self.proj(out))\n",
        "    return out"
      ],
      "metadata": {
        "id": "Q5EXm6i_OQ_b"
      },
      "execution_count": null,
      "outputs": []
    },
    {
      "cell_type": "code",
      "source": [
        "#Step 10: Code the entire transformer block: Part2(Assemble all layers)\n",
        "class Block(nn.Module):\n",
        "  def __init__(self,n_embd,n_head, num_experts, top_k):\n",
        "    super().__init__()\n",
        "    head_size = n_embd // n_head\n",
        "    self.sa = MultiHeadAttention(n_head,head_size)\n",
        "    self.smoe = SparseMoE(n_embd,num_experts,top_k)\n",
        "    self.ln1 = nn.LayerNorm(n_embd)\n",
        "    self.ln2 = nn.LayerNorm(n_embd)\n",
        "\n",
        "  def forward(self,x):\n",
        "    x = x + self.sa(self.ln1(x))\n",
        "    x = x + self.smoe(self.ln2(x))\n",
        "    return x\n"
      ],
      "metadata": {
        "id": "38VgcwXESQbf"
      },
      "execution_count": null,
      "outputs": []
    },
    {
      "cell_type": "code",
      "source": [
        "#Step 11: Define the entire language model architecture\n",
        "class SparseMoeLanguageModel(nn.Module):\n",
        "\n",
        "  def __init__(self):\n",
        "    super().__init__()\n",
        "    #each token directly reads off the logits for the next token from a lookup table\n",
        "    self.token_embedding_table = nn.Embedding(vocab_size,n_embd)\n",
        "    self.position_embedding_table = nn.Embedding(block_size,n_embd)\n",
        "    #chain of transformer blocks. embedding is passed thru the same\n",
        "    self.blocks = nn.Sequential(*[Block(n_embd,n_head=n_head,num_experts=num_experts,top_k=top_k) for _ in range(n_layer)])\n",
        "    self.ln_f = nn.LayerNorm(n_embd) #final layer norm\n",
        "    self.lm_head = nn.Linear(n_embd,vocab_size)\n",
        "\n",
        "  def forward(self,idx,targets=None):\n",
        "    B,T = idx.shape\n",
        "    #idx and targets are both(B,T) tensor of integers\n",
        "    tok_emb = self.token_embedding_table(idx) # (B,T,C)\n",
        "    pos_emb = self.position_embedding_table(torch.arange(T,device=device)) # (T,C)\n",
        "    x = tok_emb + pos_emb # (B,T,C) #input embedding\n",
        "    x = self.blocks(x) # (B,T,C)\n",
        "    x = self.ln_f(x) # (B,T,C) #layer normalization\n",
        "    logits = self.lm_head(x) # (B,T,vocab_size)\n",
        "\n",
        "    if targets is None:\n",
        "      loss = None\n",
        "    else:\n",
        "      B,T,C = logits.shape\n",
        "      logits = logits.view(B*T,C)\n",
        "      targets = targets.view(B*T)\n",
        "      loss = F.cross_entropy(logits,targets)\n",
        "    return logits,loss\n",
        "\n",
        "  def generate(self,idx,max_new_tokens):\n",
        "      #idx is (B,T) array of indices in the current context\n",
        "      for _ in range(max_new_tokens):\n",
        "        #crop idx to the last block_size tokens\n",
        "        idx_cond = idx[:,-block_size:]\n",
        "        #get the predictions\n",
        "        logits,loss = self(idx_cond)\n",
        "        #focus only on the last time step\n",
        "        logits = logits[:,-1,:] #becomes (B,C)\n",
        "        #apply softmax to get probabilities\n",
        "        probs = F.softmax(logits,dim=-1) # (B,C)\n",
        "        #sample from distribution\n",
        "        idx_next = torch.multinomial(probs,num_samples=1) # (B,1)\n",
        "        #append sampled index to the running sequence\n",
        "        idx = torch.cat((idx,idx_next),dim=1) # (B,T+1)\n",
        "        return idx"
      ],
      "metadata": {
        "id": "g41BoP6RTRe4"
      },
      "execution_count": null,
      "outputs": []
    },
    {
      "cell_type": "code",
      "source": [
        "#Step 12: Create training and testing data\n",
        "torch.manual_seed(1337)\n",
        "with open('input.txt','r',encoding='utf-8') as f:\n",
        "  text = f.read()\n",
        "#here are all the unique characters that occur in the text\n",
        "chars = sorted(list(set(text)))\n",
        "vocab_size = len(chars)\n",
        "#create a mapping from characters to integers\n",
        "stoi = {ch:i for i,ch in enumerate(chars)} # mapping character to integer\n",
        "itos = {i:ch for i,ch in enumerate(chars)} # mapping integer back to character\n",
        "encode = lambda s: [stoi[c] for c in s] #encoder: take a string, output a list of integers\n",
        "decode = lambda l: ''.join([itos[i] for i in l]) #decoder: take a list of integers, output a string\n",
        "\n",
        "#train and test splits\n",
        "data = torch.tensor(encode(text),dtype=torch.long)\n",
        "n = int(0.9*len(data)) #first 90% will be train, rest val\n",
        "train_data = data[:n]\n",
        "val_data = data[n:]\n",
        "\n",
        "#data loading\n",
        "def get_batch(split):\n",
        "  #generate a small batch of data inputs x and targets y\n",
        "  data = train_data if split == 'train' else val_data\n",
        "  ix = torch.randint(len(data) - block_size , (batch_size,))\n",
        "  x = torch.stack([data[i:i+block_size] for i in ix])\n",
        "  y = torch.stack([data[i+1:i+block_size+1] for i in ix])\n",
        "  x,y = x.to(device),y.to(device)\n",
        "  return x,y"
      ],
      "metadata": {
        "id": "7vzVEwZWXIDN"
      },
      "execution_count": null,
      "outputs": []
    },
    {
      "cell_type": "code",
      "source": [
        "#Step 13: Define LLM Loss\n",
        "@torch.no_grad()\n",
        "def estimate_loss():\n",
        "  out = {}\n",
        "  model.eval()\n",
        "  for split in ['train','test']:\n",
        "    losses = torch.zeros(eval_iters)\n",
        "    for k in range(eval_iters):\n",
        "      X,Y = get_batch(split)\n",
        "      logits , loss = model(Y,Y)\n",
        "      losses[k] = loss.item()\n",
        "    out[split] = losses.mean()\n",
        "  model.train()\n",
        "  return out\n"
      ],
      "metadata": {
        "id": "4MybS_bWY07p"
      },
      "execution_count": null,
      "outputs": []
    },
    {
      "cell_type": "code",
      "source": [
        "#Step 14: Define training loop parameters and other hyperparameters\n",
        "import torch\n",
        "import torch.nn as nn\n",
        "from torch.nn import functional as F\n",
        "from torch.nn import init\n",
        "\n",
        "#hyper parameters\n",
        "batch_size = 16\n",
        "block_size = 32\n",
        "max_iters = 20\n",
        "eval_interval = 100\n",
        "learning_rate = 1e-3\n",
        "device = 'cuda' if torch.cuda.is_available() else 'cpu'\n",
        "print(\"device\",device)\n",
        "eval_iters = 400\n",
        "head_size = 16\n",
        "n_embed = 128\n",
        "n_head = 8\n",
        "n_layer = 8\n",
        "dropout = 0.1\n",
        "num_experts = 8\n",
        "top_k = 2\n",
        "#----"
      ],
      "metadata": {
        "id": "ejSOhL5GZ0nQ"
      },
      "execution_count": null,
      "outputs": []
    },
    {
      "cell_type": "code",
      "source": [
        "#Step 15: Intialize the entire model\n",
        "def kaiming_init_weights(m):\n",
        "  if isinstance(m,(nn.Linear)):\n",
        "    init.kaiming_normal(m.weight)\n",
        "model = SparseMoeLanguageModel()\n",
        "model.apply(kaiming_init_weights)\n"
      ],
      "metadata": {
        "id": "MqzqCVS0bKRe"
      },
      "execution_count": null,
      "outputs": []
    },
    {
      "cell_type": "code",
      "source": [
        "#Step16: Run the pre-training loop\n",
        "m = model.to(device)\n",
        "print(sum(p.numel() for p in m.parameters())/1e6,'M parameters')\n",
        "optimizer = torch.optim.AdamW(model.parameters(),lr=learning_rate)\n",
        "\n",
        "for iter in range(max_iters):\n",
        "  if iter % eval_interval == 0 or iter == max_iters - 1:\n",
        "    losses = estimate_loss()\n",
        "    print(f\"step {iter}: train loss {losses['train']:.4f}, val loss {losses['val']:.4f}\")\n",
        "\n",
        "  #sample a batch of data\n",
        "  xb,yb = get_batch('train')\n",
        "\n",
        "  #evaluate the loss\n",
        "  logits,loss = model(xb,yb)\n",
        "  optimizer.zero_grad(set_to_none=True)\n",
        "  loss.backward()\n",
        "  optimizer.step()"
      ],
      "metadata": {
        "id": "iDZxNrL5caM5"
      },
      "execution_count": null,
      "outputs": []
    },
    {
      "cell_type": "code",
      "source": [
        "#Step 17: Inference\n",
        "#generate from the model. Not great. Not too bad either\n",
        "context = torch.zeros((1,1), dtype = torch.long , device = device)\n",
        "print(decode(m.generate(context,max_new_tokens=2000)[0].tolist()))"
      ],
      "metadata": {
        "id": "eWCSCcYKdW6T"
      },
      "execution_count": null,
      "outputs": []
    }
  ]
}