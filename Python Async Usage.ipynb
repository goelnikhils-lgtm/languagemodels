{
  "nbformat": 4,
  "nbformat_minor": 0,
  "metadata": {
    "colab": {
      "provenance": [],
      "authorship_tag": "ABX9TyNTjGaEtiePxnTOtjH2oXy/",
      "include_colab_link": true
    },
    "kernelspec": {
      "name": "python3",
      "display_name": "Python 3"
    },
    "language_info": {
      "name": "python"
    }
  },
  "cells": [
    {
      "cell_type": "markdown",
      "metadata": {
        "id": "view-in-github",
        "colab_type": "text"
      },
      "source": [
        "<a href=\"https://colab.research.google.com/github/goelnikhils-lgtm/languagemodels/blob/main/Python%20Async%20Usage.ipynb\" target=\"_parent\"><img src=\"https://colab.research.google.com/assets/colab-badge.svg\" alt=\"Open In Colab\"/></a>"
      ]
    },
    {
      "cell_type": "code",
      "execution_count": null,
      "metadata": {
        "id": "pbFXfGxyIstY"
      },
      "outputs": [],
      "source": [
        "#sample notebook for using async.io\n",
        "#https://medium.com/@Shrishml/all-about-python-asyncio-ca1f5a8974b0\n",
        "#https://krython.com/tutorial/python/asyncio-patterns-gather-and-wait/"
      ]
    },
    {
      "cell_type": "code",
      "source": [
        "import asyncio\n",
        "import time\n",
        "import random\n",
        "\n",
        "#store all events in a time line for later analysis\n",
        "async_timeline_events = []\n",
        "#keep track of background events that we will gather at the end\n",
        "tasks = []\n",
        "\n",
        "#capture the start time to calculate relative timestamps\n",
        "inital_timestamp = time.monotonic()\n",
        "\n",
        "def log_event(timeline , task, event):\n",
        "    \"\"\" Log an event with timestamp to visualize when operations start and end\n",
        "        Args :\n",
        "        timeline : list to append event to\n",
        "        task: Name/ID of task\n",
        "        event: Name of event\n",
        "\n",
        "    \"\"\"\n",
        "    timestamp = time.monotonic() - inital_timestamp # calculate the start time\n",
        "    timeline.append({\n",
        "            \"task\":task,\n",
        "            \"event\":event,\n",
        "            \"timestamp\":timestamp\n",
        "            })\n",
        "    print(f\"[{timestamp:.2f}] {event}: {task}\")\n",
        "\n",
        "async def async_db_operation(step):\n",
        "    \"\"\" Simulate a database write operation like (saving analytics )\n",
        "        In real time applications this would be writing to database which is I/O bound etc\n",
        "\n",
        "    \"\"\"\n",
        "    task_id = f\"log_{step}\"\n",
        "    log_event(async_timeline_events,task_id,\"START\")\n",
        "    await asyncio.sleep(random.uniform(0.3,3.0))\n",
        "    log_event(async_timeline_events,task_id,\"END\")\n",
        "\n",
        "async def async_llm_call(prompt):\n",
        "    \"\"\" Simulate a llm write operation like (saving analytics )\n",
        "        In real time applications this would be writing to database which is I/O bound etc\n",
        "\n",
        "    \"\"\"\n",
        "    task_id = f\"log_{prompt}\"\n",
        "    log_event(async_timeline_events,task_id,\"START\")\n",
        "    await asyncio.sleep(random.uniform(0.5,3.2))\n",
        "    log_event(async_timeline_events,task_id,\"END\")\n",
        "    return f\"LLM Result:{prompt}\"\n",
        "\n",
        "async def async_http_call(endpoint):\n",
        "    \"\"\" Simulate a HTTP call\n",
        "        In real time applications this would be writing to database which is I/O bound etc\n",
        "\n",
        "    \"\"\"\n",
        "    task_id = f\"http_{endpoint.replace('/','')}\"\n",
        "    log_event(async_timeline_events,task_id,\"START\")\n",
        "    await asyncio.sleep(random.uniform(0.4,4.0))\n",
        "    log_event(async_timeline_events,task_id,\"END\")\n",
        "    return f\"HTTP Result from :{endpoint}\"\n",
        "\n",
        "async def run_async_pipeline(): #run the tasks in order all tasks will run asynchronously and time associated with http call 0.4 , 4.0 will the highst time for awaiting\n",
        "    \"\"\" Main work flow that co-ordinates\n",
        "        In real time applications this would be writing to database which is I/O bound etc\n",
        "\n",
        "    \"\"\"\n",
        "    log_event(async_timeline_events,\"main\",\"START\")\n",
        "\n",
        "    #dependent task : we need the llm result before proceeding\n",
        "    llm_result = await async_llm_call(\"What is the user intent\")\n",
        "    #background task: log the result to the database , but don't wait for it\n",
        "    tasks.append(asyncio.create_task(async_db_operation(\"llm_result\")))\n",
        "\n",
        "    #dependent task : we need the http  result before proceeding\n",
        "    http1 = await async_http_call(\"/api/data\")\n",
        "    #background task: log the API but don't block\n",
        "    tasks.append(asyncio.create_task(async_db_operation(\"http1\")))\n",
        "\n",
        "    #dependent task : we need this data too before proceeding\n",
        "    http2 = await async_http_call(\"/api/details\")\n",
        "    #background task: log the API but don't block\n",
        "    tasks.append(asyncio.create_task(async_db_operation(\"http2\")))\n",
        "\n",
        "    #dependent task: generate summary from using the LLM with the collected data\n",
        "    summary = await async_llm_call(\"Summarize Everything\")\n",
        "    #background task: log the API but don't block\n",
        "    tasks.append(asyncio.create_task(async_db_operation(\"summary\")))\n",
        "\n",
        "    log_event(async_timeline_events,\"main_pipeline\",\"END\")\n",
        "\n",
        "    #wait for all background tasks to complete before exiting\n",
        "    #his ensures all logging operations finish properly\n",
        "    #this will run without gathering all tasks as well\n",
        "    await asyncio.gather(*tasks) #gather all tasks when done\n",
        "\n",
        "#fix for running asyncio in environments like Jupyter notebook\n",
        "import nest_asyncio\n",
        "nest_asyncio.apply()\n",
        "\n",
        "#reset the timer before starting\n",
        "intial_timestamp = time.monotonic()\n",
        "\n",
        "#run the pipeline\n",
        "print(\"\\n---- Running Async Pipeline ---- \\n\")\n",
        "asyncio.run(run_async_pipeline())"
      ],
      "metadata": {
        "colab": {
          "base_uri": "https://localhost:8080/"
        },
        "id": "gRRgeOGqI1_Y",
        "outputId": "9093fbf3-dc1a-4200-f1a4-1ac81670a3d9"
      },
      "execution_count": 9,
      "outputs": [
        {
          "output_type": "stream",
          "name": "stdout",
          "text": [
            "\n",
            "---- Running Async Pipeline ---- \n",
            "\n",
            "[0.00] START: main\n",
            "[0.00] START: log_What is the user intent\n",
            "[1.90] END: log_What is the user intent\n",
            "[1.90] START: http_apidata\n",
            "[1.90] START: log_llm_result\n",
            "[2.79] END: log_llm_result\n",
            "[3.69] END: http_apidata\n",
            "[3.69] START: http_apidetails\n",
            "[3.69] START: log_http1\n",
            "[5.08] END: log_http1\n",
            "[6.06] END: http_apidetails\n",
            "[6.06] START: log_Summarize Everything\n",
            "[6.06] START: log_http2\n",
            "[7.02] END: log_Summarize Everything\n",
            "[7.02] END: main_pipeline\n",
            "[7.02] START: log_summary\n",
            "[8.34] END: log_summary\n",
            "[8.35] END: log_http2\n"
          ]
        }
      ]
    }
  ]
}