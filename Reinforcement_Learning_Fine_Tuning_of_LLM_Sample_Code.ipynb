{
  "nbformat": 4,
  "nbformat_minor": 0,
  "metadata": {
    "colab": {
      "provenance": [],
      "gpuType": "T4",
      "authorship_tag": "ABX9TyNYlIALOvMGgbFYNq0tiqVa",
      "include_colab_link": true
    },
    "kernelspec": {
      "name": "python3",
      "display_name": "Python 3"
    },
    "language_info": {
      "name": "python"
    },
    "accelerator": "GPU",
    "widgets": {
      "application/vnd.jupyter.widget-state+json": {
        "089fb435f1ac4cffbbb8dfbdf108da7f": {
          "model_module": "@jupyter-widgets/controls",
          "model_name": "HBoxModel",
          "model_module_version": "1.5.0",
          "state": {
            "_dom_classes": [],
            "_model_module": "@jupyter-widgets/controls",
            "_model_module_version": "1.5.0",
            "_model_name": "HBoxModel",
            "_view_count": null,
            "_view_module": "@jupyter-widgets/controls",
            "_view_module_version": "1.5.0",
            "_view_name": "HBoxView",
            "box_style": "",
            "children": [
              "IPY_MODEL_036c99e3a5dc4f28b150e8a298138815",
              "IPY_MODEL_29a4f75c7b584dc29f6c03331cb922fe",
              "IPY_MODEL_f3dedbce8b3c4d1383165f0546d18207"
            ],
            "layout": "IPY_MODEL_d6d3ba9f34ff4ae7899fade8cf563969"
          }
        },
        "036c99e3a5dc4f28b150e8a298138815": {
          "model_module": "@jupyter-widgets/controls",
          "model_name": "HTMLModel",
          "model_module_version": "1.5.0",
          "state": {
            "_dom_classes": [],
            "_model_module": "@jupyter-widgets/controls",
            "_model_module_version": "1.5.0",
            "_model_name": "HTMLModel",
            "_view_count": null,
            "_view_module": "@jupyter-widgets/controls",
            "_view_module_version": "1.5.0",
            "_view_name": "HTMLView",
            "description": "",
            "description_tooltip": null,
            "layout": "IPY_MODEL_de2e4e97253e430ca27a4d662d4e3cbd",
            "placeholder": "​",
            "style": "IPY_MODEL_d9eafc954de348adb768bf6d4d0b2770",
            "value": "Map: 100%"
          }
        },
        "29a4f75c7b584dc29f6c03331cb922fe": {
          "model_module": "@jupyter-widgets/controls",
          "model_name": "FloatProgressModel",
          "model_module_version": "1.5.0",
          "state": {
            "_dom_classes": [],
            "_model_module": "@jupyter-widgets/controls",
            "_model_module_version": "1.5.0",
            "_model_name": "FloatProgressModel",
            "_view_count": null,
            "_view_module": "@jupyter-widgets/controls",
            "_view_module_version": "1.5.0",
            "_view_name": "ProgressView",
            "bar_style": "success",
            "description": "",
            "description_tooltip": null,
            "layout": "IPY_MODEL_aac83b8363ed474dae06047c1f575e8c",
            "max": 10,
            "min": 0,
            "orientation": "horizontal",
            "style": "IPY_MODEL_873aaaeadbdf42238103647489cfc98b",
            "value": 10
          }
        },
        "f3dedbce8b3c4d1383165f0546d18207": {
          "model_module": "@jupyter-widgets/controls",
          "model_name": "HTMLModel",
          "model_module_version": "1.5.0",
          "state": {
            "_dom_classes": [],
            "_model_module": "@jupyter-widgets/controls",
            "_model_module_version": "1.5.0",
            "_model_name": "HTMLModel",
            "_view_count": null,
            "_view_module": "@jupyter-widgets/controls",
            "_view_module_version": "1.5.0",
            "_view_name": "HTMLView",
            "description": "",
            "description_tooltip": null,
            "layout": "IPY_MODEL_3d061de2a7e441b49938b42a622a2a74",
            "placeholder": "​",
            "style": "IPY_MODEL_3f3a19dbb923449490b857563c493348",
            "value": " 10/10 [00:00&lt;00:00, 202.32 examples/s]"
          }
        },
        "d6d3ba9f34ff4ae7899fade8cf563969": {
          "model_module": "@jupyter-widgets/base",
          "model_name": "LayoutModel",
          "model_module_version": "1.2.0",
          "state": {
            "_model_module": "@jupyter-widgets/base",
            "_model_module_version": "1.2.0",
            "_model_name": "LayoutModel",
            "_view_count": null,
            "_view_module": "@jupyter-widgets/base",
            "_view_module_version": "1.2.0",
            "_view_name": "LayoutView",
            "align_content": null,
            "align_items": null,
            "align_self": null,
            "border": null,
            "bottom": null,
            "display": null,
            "flex": null,
            "flex_flow": null,
            "grid_area": null,
            "grid_auto_columns": null,
            "grid_auto_flow": null,
            "grid_auto_rows": null,
            "grid_column": null,
            "grid_gap": null,
            "grid_row": null,
            "grid_template_areas": null,
            "grid_template_columns": null,
            "grid_template_rows": null,
            "height": null,
            "justify_content": null,
            "justify_items": null,
            "left": null,
            "margin": null,
            "max_height": null,
            "max_width": null,
            "min_height": null,
            "min_width": null,
            "object_fit": null,
            "object_position": null,
            "order": null,
            "overflow": null,
            "overflow_x": null,
            "overflow_y": null,
            "padding": null,
            "right": null,
            "top": null,
            "visibility": null,
            "width": null
          }
        },
        "de2e4e97253e430ca27a4d662d4e3cbd": {
          "model_module": "@jupyter-widgets/base",
          "model_name": "LayoutModel",
          "model_module_version": "1.2.0",
          "state": {
            "_model_module": "@jupyter-widgets/base",
            "_model_module_version": "1.2.0",
            "_model_name": "LayoutModel",
            "_view_count": null,
            "_view_module": "@jupyter-widgets/base",
            "_view_module_version": "1.2.0",
            "_view_name": "LayoutView",
            "align_content": null,
            "align_items": null,
            "align_self": null,
            "border": null,
            "bottom": null,
            "display": null,
            "flex": null,
            "flex_flow": null,
            "grid_area": null,
            "grid_auto_columns": null,
            "grid_auto_flow": null,
            "grid_auto_rows": null,
            "grid_column": null,
            "grid_gap": null,
            "grid_row": null,
            "grid_template_areas": null,
            "grid_template_columns": null,
            "grid_template_rows": null,
            "height": null,
            "justify_content": null,
            "justify_items": null,
            "left": null,
            "margin": null,
            "max_height": null,
            "max_width": null,
            "min_height": null,
            "min_width": null,
            "object_fit": null,
            "object_position": null,
            "order": null,
            "overflow": null,
            "overflow_x": null,
            "overflow_y": null,
            "padding": null,
            "right": null,
            "top": null,
            "visibility": null,
            "width": null
          }
        },
        "d9eafc954de348adb768bf6d4d0b2770": {
          "model_module": "@jupyter-widgets/controls",
          "model_name": "DescriptionStyleModel",
          "model_module_version": "1.5.0",
          "state": {
            "_model_module": "@jupyter-widgets/controls",
            "_model_module_version": "1.5.0",
            "_model_name": "DescriptionStyleModel",
            "_view_count": null,
            "_view_module": "@jupyter-widgets/base",
            "_view_module_version": "1.2.0",
            "_view_name": "StyleView",
            "description_width": ""
          }
        },
        "aac83b8363ed474dae06047c1f575e8c": {
          "model_module": "@jupyter-widgets/base",
          "model_name": "LayoutModel",
          "model_module_version": "1.2.0",
          "state": {
            "_model_module": "@jupyter-widgets/base",
            "_model_module_version": "1.2.0",
            "_model_name": "LayoutModel",
            "_view_count": null,
            "_view_module": "@jupyter-widgets/base",
            "_view_module_version": "1.2.0",
            "_view_name": "LayoutView",
            "align_content": null,
            "align_items": null,
            "align_self": null,
            "border": null,
            "bottom": null,
            "display": null,
            "flex": null,
            "flex_flow": null,
            "grid_area": null,
            "grid_auto_columns": null,
            "grid_auto_flow": null,
            "grid_auto_rows": null,
            "grid_column": null,
            "grid_gap": null,
            "grid_row": null,
            "grid_template_areas": null,
            "grid_template_columns": null,
            "grid_template_rows": null,
            "height": null,
            "justify_content": null,
            "justify_items": null,
            "left": null,
            "margin": null,
            "max_height": null,
            "max_width": null,
            "min_height": null,
            "min_width": null,
            "object_fit": null,
            "object_position": null,
            "order": null,
            "overflow": null,
            "overflow_x": null,
            "overflow_y": null,
            "padding": null,
            "right": null,
            "top": null,
            "visibility": null,
            "width": null
          }
        },
        "873aaaeadbdf42238103647489cfc98b": {
          "model_module": "@jupyter-widgets/controls",
          "model_name": "ProgressStyleModel",
          "model_module_version": "1.5.0",
          "state": {
            "_model_module": "@jupyter-widgets/controls",
            "_model_module_version": "1.5.0",
            "_model_name": "ProgressStyleModel",
            "_view_count": null,
            "_view_module": "@jupyter-widgets/base",
            "_view_module_version": "1.2.0",
            "_view_name": "StyleView",
            "bar_color": null,
            "description_width": ""
          }
        },
        "3d061de2a7e441b49938b42a622a2a74": {
          "model_module": "@jupyter-widgets/base",
          "model_name": "LayoutModel",
          "model_module_version": "1.2.0",
          "state": {
            "_model_module": "@jupyter-widgets/base",
            "_model_module_version": "1.2.0",
            "_model_name": "LayoutModel",
            "_view_count": null,
            "_view_module": "@jupyter-widgets/base",
            "_view_module_version": "1.2.0",
            "_view_name": "LayoutView",
            "align_content": null,
            "align_items": null,
            "align_self": null,
            "border": null,
            "bottom": null,
            "display": null,
            "flex": null,
            "flex_flow": null,
            "grid_area": null,
            "grid_auto_columns": null,
            "grid_auto_flow": null,
            "grid_auto_rows": null,
            "grid_column": null,
            "grid_gap": null,
            "grid_row": null,
            "grid_template_areas": null,
            "grid_template_columns": null,
            "grid_template_rows": null,
            "height": null,
            "justify_content": null,
            "justify_items": null,
            "left": null,
            "margin": null,
            "max_height": null,
            "max_width": null,
            "min_height": null,
            "min_width": null,
            "object_fit": null,
            "object_position": null,
            "order": null,
            "overflow": null,
            "overflow_x": null,
            "overflow_y": null,
            "padding": null,
            "right": null,
            "top": null,
            "visibility": null,
            "width": null
          }
        },
        "3f3a19dbb923449490b857563c493348": {
          "model_module": "@jupyter-widgets/controls",
          "model_name": "DescriptionStyleModel",
          "model_module_version": "1.5.0",
          "state": {
            "_model_module": "@jupyter-widgets/controls",
            "_model_module_version": "1.5.0",
            "_model_name": "DescriptionStyleModel",
            "_view_count": null,
            "_view_module": "@jupyter-widgets/base",
            "_view_module_version": "1.2.0",
            "_view_name": "StyleView",
            "description_width": ""
          }
        },
        "c9125c01a5af4f3fbd4db2e9fb065bbd": {
          "model_module": "@jupyter-widgets/controls",
          "model_name": "HBoxModel",
          "model_module_version": "1.5.0",
          "state": {
            "_dom_classes": [],
            "_model_module": "@jupyter-widgets/controls",
            "_model_module_version": "1.5.0",
            "_model_name": "HBoxModel",
            "_view_count": null,
            "_view_module": "@jupyter-widgets/controls",
            "_view_module_version": "1.5.0",
            "_view_name": "HBoxView",
            "box_style": "",
            "children": [
              "IPY_MODEL_9fca4d8dab6d4e948c16fdb3d0b5f865",
              "IPY_MODEL_247ba317158f4621baeb0a0c054da653",
              "IPY_MODEL_5df28b8cd199416297a98f5efae3ab2f"
            ],
            "layout": "IPY_MODEL_3d8f50348fd543218410288a9516d671"
          }
        },
        "9fca4d8dab6d4e948c16fdb3d0b5f865": {
          "model_module": "@jupyter-widgets/controls",
          "model_name": "HTMLModel",
          "model_module_version": "1.5.0",
          "state": {
            "_dom_classes": [],
            "_model_module": "@jupyter-widgets/controls",
            "_model_module_version": "1.5.0",
            "_model_name": "HTMLModel",
            "_view_count": null,
            "_view_module": "@jupyter-widgets/controls",
            "_view_module_version": "1.5.0",
            "_view_name": "HTMLView",
            "description": "",
            "description_tooltip": null,
            "layout": "IPY_MODEL_543fd5f345d742b9a4e9b5b18b518d04",
            "placeholder": "​",
            "style": "IPY_MODEL_36f18ae3565c4e12b2f59f9fb3c4717c",
            "value": "Map: 100%"
          }
        },
        "247ba317158f4621baeb0a0c054da653": {
          "model_module": "@jupyter-widgets/controls",
          "model_name": "FloatProgressModel",
          "model_module_version": "1.5.0",
          "state": {
            "_dom_classes": [],
            "_model_module": "@jupyter-widgets/controls",
            "_model_module_version": "1.5.0",
            "_model_name": "FloatProgressModel",
            "_view_count": null,
            "_view_module": "@jupyter-widgets/controls",
            "_view_module_version": "1.5.0",
            "_view_name": "ProgressView",
            "bar_style": "success",
            "description": "",
            "description_tooltip": null,
            "layout": "IPY_MODEL_4cf656df3e284879a80da49b64b70511",
            "max": 1000,
            "min": 0,
            "orientation": "horizontal",
            "style": "IPY_MODEL_0e6c84f1f0ff419ea237cbae3f2a7127",
            "value": 1000
          }
        },
        "5df28b8cd199416297a98f5efae3ab2f": {
          "model_module": "@jupyter-widgets/controls",
          "model_name": "HTMLModel",
          "model_module_version": "1.5.0",
          "state": {
            "_dom_classes": [],
            "_model_module": "@jupyter-widgets/controls",
            "_model_module_version": "1.5.0",
            "_model_name": "HTMLModel",
            "_view_count": null,
            "_view_module": "@jupyter-widgets/controls",
            "_view_module_version": "1.5.0",
            "_view_name": "HTMLView",
            "description": "",
            "description_tooltip": null,
            "layout": "IPY_MODEL_50fc2f32f1bd489f8cac4b1d496136d5",
            "placeholder": "​",
            "style": "IPY_MODEL_2982de2a715141b49ac37917858074c3",
            "value": " 1000/1000 [00:02&lt;00:00, 445.38 examples/s]"
          }
        },
        "3d8f50348fd543218410288a9516d671": {
          "model_module": "@jupyter-widgets/base",
          "model_name": "LayoutModel",
          "model_module_version": "1.2.0",
          "state": {
            "_model_module": "@jupyter-widgets/base",
            "_model_module_version": "1.2.0",
            "_model_name": "LayoutModel",
            "_view_count": null,
            "_view_module": "@jupyter-widgets/base",
            "_view_module_version": "1.2.0",
            "_view_name": "LayoutView",
            "align_content": null,
            "align_items": null,
            "align_self": null,
            "border": null,
            "bottom": null,
            "display": null,
            "flex": null,
            "flex_flow": null,
            "grid_area": null,
            "grid_auto_columns": null,
            "grid_auto_flow": null,
            "grid_auto_rows": null,
            "grid_column": null,
            "grid_gap": null,
            "grid_row": null,
            "grid_template_areas": null,
            "grid_template_columns": null,
            "grid_template_rows": null,
            "height": null,
            "justify_content": null,
            "justify_items": null,
            "left": null,
            "margin": null,
            "max_height": null,
            "max_width": null,
            "min_height": null,
            "min_width": null,
            "object_fit": null,
            "object_position": null,
            "order": null,
            "overflow": null,
            "overflow_x": null,
            "overflow_y": null,
            "padding": null,
            "right": null,
            "top": null,
            "visibility": null,
            "width": null
          }
        },
        "543fd5f345d742b9a4e9b5b18b518d04": {
          "model_module": "@jupyter-widgets/base",
          "model_name": "LayoutModel",
          "model_module_version": "1.2.0",
          "state": {
            "_model_module": "@jupyter-widgets/base",
            "_model_module_version": "1.2.0",
            "_model_name": "LayoutModel",
            "_view_count": null,
            "_view_module": "@jupyter-widgets/base",
            "_view_module_version": "1.2.0",
            "_view_name": "LayoutView",
            "align_content": null,
            "align_items": null,
            "align_self": null,
            "border": null,
            "bottom": null,
            "display": null,
            "flex": null,
            "flex_flow": null,
            "grid_area": null,
            "grid_auto_columns": null,
            "grid_auto_flow": null,
            "grid_auto_rows": null,
            "grid_column": null,
            "grid_gap": null,
            "grid_row": null,
            "grid_template_areas": null,
            "grid_template_columns": null,
            "grid_template_rows": null,
            "height": null,
            "justify_content": null,
            "justify_items": null,
            "left": null,
            "margin": null,
            "max_height": null,
            "max_width": null,
            "min_height": null,
            "min_width": null,
            "object_fit": null,
            "object_position": null,
            "order": null,
            "overflow": null,
            "overflow_x": null,
            "overflow_y": null,
            "padding": null,
            "right": null,
            "top": null,
            "visibility": null,
            "width": null
          }
        },
        "36f18ae3565c4e12b2f59f9fb3c4717c": {
          "model_module": "@jupyter-widgets/controls",
          "model_name": "DescriptionStyleModel",
          "model_module_version": "1.5.0",
          "state": {
            "_model_module": "@jupyter-widgets/controls",
            "_model_module_version": "1.5.0",
            "_model_name": "DescriptionStyleModel",
            "_view_count": null,
            "_view_module": "@jupyter-widgets/base",
            "_view_module_version": "1.2.0",
            "_view_name": "StyleView",
            "description_width": ""
          }
        },
        "4cf656df3e284879a80da49b64b70511": {
          "model_module": "@jupyter-widgets/base",
          "model_name": "LayoutModel",
          "model_module_version": "1.2.0",
          "state": {
            "_model_module": "@jupyter-widgets/base",
            "_model_module_version": "1.2.0",
            "_model_name": "LayoutModel",
            "_view_count": null,
            "_view_module": "@jupyter-widgets/base",
            "_view_module_version": "1.2.0",
            "_view_name": "LayoutView",
            "align_content": null,
            "align_items": null,
            "align_self": null,
            "border": null,
            "bottom": null,
            "display": null,
            "flex": null,
            "flex_flow": null,
            "grid_area": null,
            "grid_auto_columns": null,
            "grid_auto_flow": null,
            "grid_auto_rows": null,
            "grid_column": null,
            "grid_gap": null,
            "grid_row": null,
            "grid_template_areas": null,
            "grid_template_columns": null,
            "grid_template_rows": null,
            "height": null,
            "justify_content": null,
            "justify_items": null,
            "left": null,
            "margin": null,
            "max_height": null,
            "max_width": null,
            "min_height": null,
            "min_width": null,
            "object_fit": null,
            "object_position": null,
            "order": null,
            "overflow": null,
            "overflow_x": null,
            "overflow_y": null,
            "padding": null,
            "right": null,
            "top": null,
            "visibility": null,
            "width": null
          }
        },
        "0e6c84f1f0ff419ea237cbae3f2a7127": {
          "model_module": "@jupyter-widgets/controls",
          "model_name": "ProgressStyleModel",
          "model_module_version": "1.5.0",
          "state": {
            "_model_module": "@jupyter-widgets/controls",
            "_model_module_version": "1.5.0",
            "_model_name": "ProgressStyleModel",
            "_view_count": null,
            "_view_module": "@jupyter-widgets/base",
            "_view_module_version": "1.2.0",
            "_view_name": "StyleView",
            "bar_color": null,
            "description_width": ""
          }
        },
        "50fc2f32f1bd489f8cac4b1d496136d5": {
          "model_module": "@jupyter-widgets/base",
          "model_name": "LayoutModel",
          "model_module_version": "1.2.0",
          "state": {
            "_model_module": "@jupyter-widgets/base",
            "_model_module_version": "1.2.0",
            "_model_name": "LayoutModel",
            "_view_count": null,
            "_view_module": "@jupyter-widgets/base",
            "_view_module_version": "1.2.0",
            "_view_name": "LayoutView",
            "align_content": null,
            "align_items": null,
            "align_self": null,
            "border": null,
            "bottom": null,
            "display": null,
            "flex": null,
            "flex_flow": null,
            "grid_area": null,
            "grid_auto_columns": null,
            "grid_auto_flow": null,
            "grid_auto_rows": null,
            "grid_column": null,
            "grid_gap": null,
            "grid_row": null,
            "grid_template_areas": null,
            "grid_template_columns": null,
            "grid_template_rows": null,
            "height": null,
            "justify_content": null,
            "justify_items": null,
            "left": null,
            "margin": null,
            "max_height": null,
            "max_width": null,
            "min_height": null,
            "min_width": null,
            "object_fit": null,
            "object_position": null,
            "order": null,
            "overflow": null,
            "overflow_x": null,
            "overflow_y": null,
            "padding": null,
            "right": null,
            "top": null,
            "visibility": null,
            "width": null
          }
        },
        "2982de2a715141b49ac37917858074c3": {
          "model_module": "@jupyter-widgets/controls",
          "model_name": "DescriptionStyleModel",
          "model_module_version": "1.5.0",
          "state": {
            "_model_module": "@jupyter-widgets/controls",
            "_model_module_version": "1.5.0",
            "_model_name": "DescriptionStyleModel",
            "_view_count": null,
            "_view_module": "@jupyter-widgets/base",
            "_view_module_version": "1.2.0",
            "_view_name": "StyleView",
            "description_width": ""
          }
        },
        "586a980f321d4ea4b902c61bc9b698c7": {
          "model_module": "@jupyter-widgets/controls",
          "model_name": "HBoxModel",
          "model_module_version": "1.5.0",
          "state": {
            "_dom_classes": [],
            "_model_module": "@jupyter-widgets/controls",
            "_model_module_version": "1.5.0",
            "_model_name": "HBoxModel",
            "_view_count": null,
            "_view_module": "@jupyter-widgets/controls",
            "_view_module_version": "1.5.0",
            "_view_name": "HBoxView",
            "box_style": "",
            "children": [
              "IPY_MODEL_53f53e1b5eef4e1393c12e59431402ab",
              "IPY_MODEL_2029e17e8c4d4610ad3ab5f4e151d0e9",
              "IPY_MODEL_9e26b036f29045dc8d241de98b05a1b8"
            ],
            "layout": "IPY_MODEL_a1bdf9cfb30741c6a122b9370676d6ab"
          }
        },
        "53f53e1b5eef4e1393c12e59431402ab": {
          "model_module": "@jupyter-widgets/controls",
          "model_name": "HTMLModel",
          "model_module_version": "1.5.0",
          "state": {
            "_dom_classes": [],
            "_model_module": "@jupyter-widgets/controls",
            "_model_module_version": "1.5.0",
            "_model_name": "HTMLModel",
            "_view_count": null,
            "_view_module": "@jupyter-widgets/controls",
            "_view_module_version": "1.5.0",
            "_view_name": "HTMLView",
            "description": "",
            "description_tooltip": null,
            "layout": "IPY_MODEL_da7dcddefed0457c9b8859b54e707d73",
            "placeholder": "​",
            "style": "IPY_MODEL_dc787d8df26540f4b8020251aef2a533",
            "value": "Map: 100%"
          }
        },
        "2029e17e8c4d4610ad3ab5f4e151d0e9": {
          "model_module": "@jupyter-widgets/controls",
          "model_name": "FloatProgressModel",
          "model_module_version": "1.5.0",
          "state": {
            "_dom_classes": [],
            "_model_module": "@jupyter-widgets/controls",
            "_model_module_version": "1.5.0",
            "_model_name": "FloatProgressModel",
            "_view_count": null,
            "_view_module": "@jupyter-widgets/controls",
            "_view_module_version": "1.5.0",
            "_view_name": "ProgressView",
            "bar_style": "success",
            "description": "",
            "description_tooltip": null,
            "layout": "IPY_MODEL_9566906ae26441cb93ee43cc8ab7a0df",
            "max": 1000,
            "min": 0,
            "orientation": "horizontal",
            "style": "IPY_MODEL_b7ef7973c54a4dfc8165f778d5cb02eb",
            "value": 1000
          }
        },
        "9e26b036f29045dc8d241de98b05a1b8": {
          "model_module": "@jupyter-widgets/controls",
          "model_name": "HTMLModel",
          "model_module_version": "1.5.0",
          "state": {
            "_dom_classes": [],
            "_model_module": "@jupyter-widgets/controls",
            "_model_module_version": "1.5.0",
            "_model_name": "HTMLModel",
            "_view_count": null,
            "_view_module": "@jupyter-widgets/controls",
            "_view_module_version": "1.5.0",
            "_view_name": "HTMLView",
            "description": "",
            "description_tooltip": null,
            "layout": "IPY_MODEL_604e502c6b0f4e7185a0b15c3abec2cd",
            "placeholder": "​",
            "style": "IPY_MODEL_989eb0736fb64a1ab4a530f5558620a1",
            "value": " 1000/1000 [00:00&lt;00:00, 1510.37 examples/s]"
          }
        },
        "a1bdf9cfb30741c6a122b9370676d6ab": {
          "model_module": "@jupyter-widgets/base",
          "model_name": "LayoutModel",
          "model_module_version": "1.2.0",
          "state": {
            "_model_module": "@jupyter-widgets/base",
            "_model_module_version": "1.2.0",
            "_model_name": "LayoutModel",
            "_view_count": null,
            "_view_module": "@jupyter-widgets/base",
            "_view_module_version": "1.2.0",
            "_view_name": "LayoutView",
            "align_content": null,
            "align_items": null,
            "align_self": null,
            "border": null,
            "bottom": null,
            "display": null,
            "flex": null,
            "flex_flow": null,
            "grid_area": null,
            "grid_auto_columns": null,
            "grid_auto_flow": null,
            "grid_auto_rows": null,
            "grid_column": null,
            "grid_gap": null,
            "grid_row": null,
            "grid_template_areas": null,
            "grid_template_columns": null,
            "grid_template_rows": null,
            "height": null,
            "justify_content": null,
            "justify_items": null,
            "left": null,
            "margin": null,
            "max_height": null,
            "max_width": null,
            "min_height": null,
            "min_width": null,
            "object_fit": null,
            "object_position": null,
            "order": null,
            "overflow": null,
            "overflow_x": null,
            "overflow_y": null,
            "padding": null,
            "right": null,
            "top": null,
            "visibility": null,
            "width": null
          }
        },
        "da7dcddefed0457c9b8859b54e707d73": {
          "model_module": "@jupyter-widgets/base",
          "model_name": "LayoutModel",
          "model_module_version": "1.2.0",
          "state": {
            "_model_module": "@jupyter-widgets/base",
            "_model_module_version": "1.2.0",
            "_model_name": "LayoutModel",
            "_view_count": null,
            "_view_module": "@jupyter-widgets/base",
            "_view_module_version": "1.2.0",
            "_view_name": "LayoutView",
            "align_content": null,
            "align_items": null,
            "align_self": null,
            "border": null,
            "bottom": null,
            "display": null,
            "flex": null,
            "flex_flow": null,
            "grid_area": null,
            "grid_auto_columns": null,
            "grid_auto_flow": null,
            "grid_auto_rows": null,
            "grid_column": null,
            "grid_gap": null,
            "grid_row": null,
            "grid_template_areas": null,
            "grid_template_columns": null,
            "grid_template_rows": null,
            "height": null,
            "justify_content": null,
            "justify_items": null,
            "left": null,
            "margin": null,
            "max_height": null,
            "max_width": null,
            "min_height": null,
            "min_width": null,
            "object_fit": null,
            "object_position": null,
            "order": null,
            "overflow": null,
            "overflow_x": null,
            "overflow_y": null,
            "padding": null,
            "right": null,
            "top": null,
            "visibility": null,
            "width": null
          }
        },
        "dc787d8df26540f4b8020251aef2a533": {
          "model_module": "@jupyter-widgets/controls",
          "model_name": "DescriptionStyleModel",
          "model_module_version": "1.5.0",
          "state": {
            "_model_module": "@jupyter-widgets/controls",
            "_model_module_version": "1.5.0",
            "_model_name": "DescriptionStyleModel",
            "_view_count": null,
            "_view_module": "@jupyter-widgets/base",
            "_view_module_version": "1.2.0",
            "_view_name": "StyleView",
            "description_width": ""
          }
        },
        "9566906ae26441cb93ee43cc8ab7a0df": {
          "model_module": "@jupyter-widgets/base",
          "model_name": "LayoutModel",
          "model_module_version": "1.2.0",
          "state": {
            "_model_module": "@jupyter-widgets/base",
            "_model_module_version": "1.2.0",
            "_model_name": "LayoutModel",
            "_view_count": null,
            "_view_module": "@jupyter-widgets/base",
            "_view_module_version": "1.2.0",
            "_view_name": "LayoutView",
            "align_content": null,
            "align_items": null,
            "align_self": null,
            "border": null,
            "bottom": null,
            "display": null,
            "flex": null,
            "flex_flow": null,
            "grid_area": null,
            "grid_auto_columns": null,
            "grid_auto_flow": null,
            "grid_auto_rows": null,
            "grid_column": null,
            "grid_gap": null,
            "grid_row": null,
            "grid_template_areas": null,
            "grid_template_columns": null,
            "grid_template_rows": null,
            "height": null,
            "justify_content": null,
            "justify_items": null,
            "left": null,
            "margin": null,
            "max_height": null,
            "max_width": null,
            "min_height": null,
            "min_width": null,
            "object_fit": null,
            "object_position": null,
            "order": null,
            "overflow": null,
            "overflow_x": null,
            "overflow_y": null,
            "padding": null,
            "right": null,
            "top": null,
            "visibility": null,
            "width": null
          }
        },
        "b7ef7973c54a4dfc8165f778d5cb02eb": {
          "model_module": "@jupyter-widgets/controls",
          "model_name": "ProgressStyleModel",
          "model_module_version": "1.5.0",
          "state": {
            "_model_module": "@jupyter-widgets/controls",
            "_model_module_version": "1.5.0",
            "_model_name": "ProgressStyleModel",
            "_view_count": null,
            "_view_module": "@jupyter-widgets/base",
            "_view_module_version": "1.2.0",
            "_view_name": "StyleView",
            "bar_color": null,
            "description_width": ""
          }
        },
        "604e502c6b0f4e7185a0b15c3abec2cd": {
          "model_module": "@jupyter-widgets/base",
          "model_name": "LayoutModel",
          "model_module_version": "1.2.0",
          "state": {
            "_model_module": "@jupyter-widgets/base",
            "_model_module_version": "1.2.0",
            "_model_name": "LayoutModel",
            "_view_count": null,
            "_view_module": "@jupyter-widgets/base",
            "_view_module_version": "1.2.0",
            "_view_name": "LayoutView",
            "align_content": null,
            "align_items": null,
            "align_self": null,
            "border": null,
            "bottom": null,
            "display": null,
            "flex": null,
            "flex_flow": null,
            "grid_area": null,
            "grid_auto_columns": null,
            "grid_auto_flow": null,
            "grid_auto_rows": null,
            "grid_column": null,
            "grid_gap": null,
            "grid_row": null,
            "grid_template_areas": null,
            "grid_template_columns": null,
            "grid_template_rows": null,
            "height": null,
            "justify_content": null,
            "justify_items": null,
            "left": null,
            "margin": null,
            "max_height": null,
            "max_width": null,
            "min_height": null,
            "min_width": null,
            "object_fit": null,
            "object_position": null,
            "order": null,
            "overflow": null,
            "overflow_x": null,
            "overflow_y": null,
            "padding": null,
            "right": null,
            "top": null,
            "visibility": null,
            "width": null
          }
        },
        "989eb0736fb64a1ab4a530f5558620a1": {
          "model_module": "@jupyter-widgets/controls",
          "model_name": "DescriptionStyleModel",
          "model_module_version": "1.5.0",
          "state": {
            "_model_module": "@jupyter-widgets/controls",
            "_model_module_version": "1.5.0",
            "_model_name": "DescriptionStyleModel",
            "_view_count": null,
            "_view_module": "@jupyter-widgets/base",
            "_view_module_version": "1.2.0",
            "_view_name": "StyleView",
            "description_width": ""
          }
        }
      }
    }
  },
  "cells": [
    {
      "cell_type": "markdown",
      "metadata": {
        "id": "view-in-github",
        "colab_type": "text"
      },
      "source": [
        "<a href=\"https://colab.research.google.com/github/goelnikhils-lgtm/languagemodels/blob/main/Reinforcement_Learning_Fine_Tuning_of_LLM_Sample_Code.ipynb\" target=\"_parent\"><img src=\"https://colab.research.google.com/assets/colab-badge.svg\" alt=\"Open In Colab\"/></a>"
      ]
    },
    {
      "cell_type": "code",
      "execution_count": null,
      "metadata": {
        "id": "9HCXBIyWwu-t"
      },
      "outputs": [],
      "source": [
        "#RLHF based fine tuning - sample code but not working code\n",
        "#credit - https://medium.com/@meeran03/fine-tuning-llms-with-human-feedback-rlhf-latest-techniques-and-best-practices-3ed534cf9828\n",
        "#credit - https://www.youtube.com/watch?v=R2paulc3P2M"
      ]
    },
    {
      "cell_type": "code",
      "source": [
        "!pip install trl\n",
        "\n",
        "from trl import PPOTrainer, PPOConfig, AutoModelForCausalLMWithValueHead\n",
        "from transformers import AutoTokenizer, pipeline , AutoModelForSequenceClassification\n",
        "from datasets import load_dataset"
      ],
      "metadata": {
        "id": "tZVFM9zKw_NY"
      },
      "execution_count": null,
      "outputs": []
    },
    {
      "cell_type": "code",
      "source": [
        "model_name = \"lvwerra/gpt-imdb\" # base model\n",
        "model = AutoModelForCausalLMWithValueHead.from_pretrained(model_name)\n",
        "tokenizer = AutoTokenizer.from_pretrained(model_name)\n",
        "\n",
        "#initiate a reward model\n",
        "reward_model = AutoModelForSequenceClassification.from_pretrained(\"lvwerra/distilbert-imdb\")\n",
        "\n",
        "#intialize PPO trainer with model , reward model and reference model for KL regularization\n",
        "ppo_trainer = PPOTrainer(model=model,\n",
        "                         ref_model=model,\n",
        "                         toekizer = tokenizer,\n",
        "                         reward_model = reward_model,\n",
        "                         **ppo_params)\n",
        "#prepare prompts for training\n",
        "prompts = [\"User: How can I improve my time management? Assistant:\",\n",
        "           \"User: Tell me about the benefits of meditation? Assistant:\"]\n",
        "#start training loop\n",
        "for epoch in enumerate(num_epochs):\n",
        "  for prompt in prompts:\n",
        "    input = tokenizer(prompt,return_tensor=\"pt\")\n",
        "    response_ids = model.generate(**input,max_new_tokens=100)\n",
        "    response = tokenizer.decode(response_ids[0,input['inputs_id'].shape[1]:])\n",
        "    reward_score = compute_reward_score(reward_model,prompt,response)\n",
        "    ppo_trainer.step([prompt],[response],reward_model)\n",
        "    print(response)"
      ],
      "metadata": {
        "id": "NDeoCe0OxJj7"
      },
      "execution_count": null,
      "outputs": []
    },
    {
      "cell_type": "code",
      "source": [
        "#Second Code for fine tuning LLM with PPO - THE TASK IS SUMMARIZATION AND HENCE THE POLICY MODEL IS TRAINED ON THIS TASKS\n",
        "#to give better results\n",
        "\n",
        "import random\n",
        "import numpy as np\n",
        "import torch\n",
        "import pandas as pd\n",
        "\n",
        "from transformers import(\n",
        "    AutoModelForCausalLM,\n",
        "    AutoTokenizer,\n",
        "    set_seed,\n",
        "    Trainer,\n",
        "    TrainingArguments,\n",
        "    default_data_collator\n",
        ")\n",
        "\n",
        "def set_seed(seed_value=42):\n",
        "  random.seed(seed_value)\n",
        "  np.random.seed(seed_value)\n",
        "  torch.manual_seed(seed_value)\n",
        "  torch.cuda.manual_seed_all(seed_value)\n",
        "\n",
        "output_dir = \"supervised-summarize-checkpoint\"\n",
        "train_size = 16\n",
        "gradient_accumlation_steps = 1\n",
        "learning_rate = 1e-5\n",
        "eval_batch_size = 1\n",
        "eval_steps = 500\n",
        "max_input_length = 550\n",
        "save_steps = 1000\n",
        "num_train_epochs = 20\n",
        "random.seed(42)"
      ],
      "metadata": {
        "id": "ADyCIOYADAnd"
      },
      "execution_count": null,
      "outputs": []
    },
    {
      "cell_type": "code",
      "source": [
        "#create policy model\n",
        "df = pd.read_parquet(\"/content/sample_data/test_policy.parquet\")\n",
        "df.iloc[12]"
      ],
      "metadata": {
        "colab": {
          "base_uri": "https://localhost:8080/",
          "height": 146
        },
        "id": "9m_i1pCqKC-a",
        "outputId": "d1014b00-9cac-4b5d-b01d-3689e72752c9"
      },
      "execution_count": null,
      "outputs": [
        {
          "output_type": "execute_result",
          "data": {
            "text/plain": [
              "prompt    SUBREDDIT: r/tifu\\nTITLE: TIFU bY brushing wit...\n",
              "label     Brush Teeth with Baking Soda without research,...\n",
              "Name: 12, dtype: object"
            ],
            "text/html": [
              "<div>\n",
              "<style scoped>\n",
              "    .dataframe tbody tr th:only-of-type {\n",
              "        vertical-align: middle;\n",
              "    }\n",
              "\n",
              "    .dataframe tbody tr th {\n",
              "        vertical-align: top;\n",
              "    }\n",
              "\n",
              "    .dataframe thead th {\n",
              "        text-align: right;\n",
              "    }\n",
              "</style>\n",
              "<table border=\"1\" class=\"dataframe\">\n",
              "  <thead>\n",
              "    <tr style=\"text-align: right;\">\n",
              "      <th></th>\n",
              "      <th>12</th>\n",
              "    </tr>\n",
              "  </thead>\n",
              "  <tbody>\n",
              "    <tr>\n",
              "      <th>prompt</th>\n",
              "      <td>SUBREDDIT: r/tifu\\nTITLE: TIFU bY brushing wit...</td>\n",
              "    </tr>\n",
              "    <tr>\n",
              "      <th>label</th>\n",
              "      <td>Brush Teeth with Baking Soda without research,...</td>\n",
              "    </tr>\n",
              "  </tbody>\n",
              "</table>\n",
              "</div><br><label><b>dtype:</b> object</label>"
            ]
          },
          "metadata": {},
          "execution_count": 4
        }
      ]
    },
    {
      "cell_type": "code",
      "source": [
        "import json\n",
        "import pandas as pd\n",
        "import torch\n",
        "from datasets import load_dataset\n",
        "from torch.utils.data import Dataset\n",
        "from transformers import(\n",
        "    AutoModelForCausalLM,\n",
        "    AutoTokenizer,\n",
        "    set_seed,\n",
        "    Trainer,\n",
        "    TrainingArguments,\n",
        "    default_data_collator\n",
        ")\n",
        "class TLDRDataset(Dataset):\n",
        "  def __init__(self,train_path,tokenizer,split,max_input_length = 256):\n",
        "    self.post_list=[]\n",
        "    dataset = pd.read_parquet(train_path)\n",
        "    self.labels = []\n",
        "    for sample in dataset.iterrows():\n",
        "      self.post_list.append(sample[1][\"prompt\"])\n",
        "      self.labels.append(sample[1][\"label\"])\n",
        "    self.tokenizer = tokenizer\n",
        "    self.max_input_length = max_input_length\n",
        "    self.input_ids = []\n",
        "    self.attn_masks = []\n",
        "\n",
        "  def __len__(self):\n",
        "    return len(self.post_list)\n",
        "\n",
        "  def __getitem__(self,idx):\n",
        "    text = self.post_list[idx]\n",
        "    label = self.labels[idx]\n",
        "\n",
        "    encodings_dict = self.tokenizer(\n",
        "        text,\n",
        "        max_length = self.max_input_length,\n",
        "        padding = \"max_length\",\n",
        "        truncation = True)\n",
        "\n",
        "    encodings_dict_label= self.tokenizer(\n",
        "        label,\n",
        "        max_length = self.max_input_length,\n",
        "        padding = \"max_length\",\n",
        "        truncation = True)\n",
        "    input_ids = torch.tensor(encodings_dict[\"input_ids\"])\n",
        "    attention_masks = torch.tensor(encodings_dict[\"attention_mask\"])\n",
        "    labels_ids = torch.tensor(encodings_dict_label[\"input_ids\"])\n",
        "    return {\"input_ids\":input_ids,\"attention_masks\":attention_masks,\"labels\":labels_ids}"
      ],
      "metadata": {
        "id": "g525Ow_2OCQZ"
      },
      "execution_count": 185,
      "outputs": []
    },
    {
      "cell_type": "code",
      "source": [
        "#Intial Policy Model ---><--- - We are training on the dataset doing an SFT\n",
        "tokenizer = AutoTokenizer.from_pretrained(\"bigcode/tiny_starcoder_py\")\n",
        "model  = AutoModelForCausalLM.from_pretrained(\"bigcode/tiny_starcoder_py\")\n",
        "tokenizer.pad_token = tokenizer.eos_token\n",
        "tokenizer.padding_side = \"right\"\n",
        "model.resize_token_embeddings(len(tokenizer))\n",
        "tokenizer.pad_token_id = tokenizer.eos_token_id\n",
        "model.config.end_token_id = model.config.eos_token_id\n",
        "model.config.pad_token_id = model.config.eos_token_id"
      ],
      "metadata": {
        "id": "82Vi3B5cQgQl"
      },
      "execution_count": 186,
      "outputs": []
    },
    {
      "cell_type": "code",
      "source": [
        "#setup the dataset\n",
        "data_path = \"sample_data/test_policy.parquet\"\n",
        "train_dataset = TLDRDataset(data_path,tokenizer,\"train\",max_input_length=256)\n",
        "#eval_dataset = TLDRDataset(data_path,tokenizer,\"test\")"
      ],
      "metadata": {
        "id": "P-KDp_nORfx4"
      },
      "execution_count": 187,
      "outputs": []
    },
    {
      "cell_type": "code",
      "source": [
        "for i in train_dataset:\n",
        "  print(i[\"input_ids\"],i[\"labels\"])\n",
        "  break"
      ],
      "metadata": {
        "id": "DWyVPl-4SsHO"
      },
      "execution_count": null,
      "outputs": []
    },
    {
      "cell_type": "code",
      "source": [
        "torch.cuda.set_device(1)"
      ],
      "metadata": {
        "id": "olqzfmLRT0Jj"
      },
      "execution_count": null,
      "outputs": []
    },
    {
      "cell_type": "code",
      "source": [
        "training_args = TrainingArguments(\n",
        "    output_dir = output_dir,\n",
        "    learning_rate = learning_rate,\n",
        "    per_device_train_batch_size = train_size,\n",
        "    #per_device_eval_batch_size = eval_batch_size,\n",
        "    fp16 = False,\n",
        "    gradient_accumulation_steps = gradient_accumlation_steps,\n",
        "    num_train_epochs = 2,\n",
        "    warmup_steps = 100,\n",
        "    logging_steps=10,\n",
        ")"
      ],
      "metadata": {
        "id": "XxcRVDwTToeR"
      },
      "execution_count": null,
      "outputs": []
    },
    {
      "cell_type": "code",
      "source": [
        "training_args.device.index"
      ],
      "metadata": {
        "colab": {
          "base_uri": "https://localhost:8080/"
        },
        "id": "QUYIGCEUZ6bj",
        "outputId": "c07a9bea-a9cc-4a83-84fc-5a01b206d29e"
      },
      "execution_count": null,
      "outputs": [
        {
          "output_type": "execute_result",
          "data": {
            "text/plain": [
              "0"
            ]
          },
          "metadata": {},
          "execution_count": 10
        }
      ]
    },
    {
      "cell_type": "code",
      "source": [
        "trainer = Trainer(\n",
        "    model = model,\n",
        "    args = training_args,\n",
        "    train_dataset = train_dataset,\n",
        "    #eval_dataset = eval_dataset,\n",
        "    #data_collator = default_data_collator,\n",
        ")\n",
        "trainer.train()"
      ],
      "metadata": {
        "id": "Lui_UA5zaAjS"
      },
      "execution_count": null,
      "outputs": []
    },
    {
      "cell_type": "code",
      "source": [
        "trainer.save_model(\"/content/models/summarization_policy_new/\")\n",
        "tokenizer.save_pretrained(\"/content/models/summarization_policy_new/\")"
      ],
      "metadata": {
        "id": "D9N73VVpatKN"
      },
      "execution_count": null,
      "outputs": []
    },
    {
      "cell_type": "code",
      "source": [
        "df.iloc[0][\"label\"]"
      ],
      "metadata": {
        "id": "MicTd6m0Co-e"
      },
      "execution_count": null,
      "outputs": []
    },
    {
      "cell_type": "code",
      "source": [
        "from transformers import AutoTokenizer\n",
        "from transformers import AutoModelForCausalLM\n",
        "import os\n",
        "\n",
        "model_path = \"/content/models/summarization_policy_new/\"\n",
        "model = AutoModelForCausalLM.from_pretrained(model_path)\n",
        "\n",
        "# Inspect the files in the directory to understand the tokenizer files\n",
        "print(\"Files in the saved model directory:\")\n",
        "print(os.listdir(model_path))\n",
        "\n",
        "# Load the tokenizer from the saved directory\n",
        "tokenizer = AutoTokenizer.from_pretrained(model_path)\n",
        "\n",
        "text = df.iloc[2][\"prompt\"]\n",
        "tokenized_text = tokenizer(text,return_tensors=\"pt\",max_length=256)"
      ],
      "metadata": {
        "id": "yroKEdKkDUnN"
      },
      "execution_count": null,
      "outputs": []
    },
    {
      "cell_type": "code",
      "source": [
        "tokenizer.decode(tokenized_text[\"input_ids\"][0])"
      ],
      "metadata": {
        "id": "1sUyD5-TKtG2"
      },
      "execution_count": null,
      "outputs": []
    },
    {
      "cell_type": "code",
      "source": [
        "#Train the reward Model - the reward model acts as proxy to Human Feedback in RLHF - VERY IMP\n",
        "#SAME MODEL \"tiny_starcoder_py\" IS TRAINED ON SUMMARIZATION TASK AS POLICY MODEL . SAME MODEL IS TRAINED AS REWARD MODEL TO COMPARE THE SUMMARIES WHETHER SUMMARY\n",
        "#IS CHOSEN OR REJECTED\n",
        "\n",
        "!pip install --upgrade trl transformers"
      ],
      "metadata": {
        "id": "49GHmlItLWQp"
      },
      "execution_count": null,
      "outputs": []
    },
    {
      "cell_type": "code",
      "source": [
        "import torch\n",
        "import transformers\n",
        "from transformers import pipeline , AutoTokenizer, AutoModelForCausalLM , DataCollatorForLanguageModeling , AutoModelForSequenceClassification\n",
        "from trl import RewardConfig,RewardTrainer ,SFTTrainer\n",
        "from datasets import Dataset\n",
        "import json\n",
        "import pandas as pd\n",
        "from transformers import Trainer , TrainingArguments"
      ],
      "metadata": {
        "id": "s8sQwPHnM_3n"
      },
      "execution_count": 48,
      "outputs": []
    },
    {
      "cell_type": "code",
      "source": [
        "model_path= \"bigcode/tiny_starcoder_py\" #reward model\n",
        "data_path = \"/content/sample_data/test.parquet\"\n",
        "#CarperAI/openai_summarize_comparisons - comparison dataset for REWARD MODEL"
      ],
      "metadata": {
        "id": "-xq8Uhm1NWxj"
      },
      "execution_count": 49,
      "outputs": []
    },
    {
      "cell_type": "code",
      "source": [
        "df = pd.read_parquet(\"sample_data/test.parquet\")\n",
        "df = df[:10]\n",
        "raw_dataset = Dataset.from_pandas(df)\n",
        "raw_dataset"
      ],
      "metadata": {
        "colab": {
          "base_uri": "https://localhost:8080/"
        },
        "id": "g7-eqYcROYMk",
        "outputId": "032efa28-fbff-4651-b42f-cbb450d02462"
      },
      "execution_count": 67,
      "outputs": [
        {
          "output_type": "execute_result",
          "data": {
            "text/plain": [
              "Dataset({\n",
              "    features: ['prompt', 'chosen', 'rejected'],\n",
              "    num_rows: 10\n",
              "})"
            ]
          },
          "metadata": {},
          "execution_count": 67
        }
      ]
    },
    {
      "cell_type": "code",
      "source": [
        "# Load the tokenizer for the base model and set the padding token\n",
        "tokenizer = AutoTokenizer.from_pretrained(\"bigcode/tiny_starcoder_py\")\n",
        "tokenizer.pad_token = tokenizer.eos_token\n",
        "\n",
        "# Load the model with a sequence classification head for reward modeling\n",
        "reward_model = AutoModelForCausalLM.from_pretrained(model_path) # Using model_path which points to the saved policy model\n",
        "\n",
        "# Explicitly set the pad_token_id in the model's configuration\n",
        "reward_model.config.pad_token_id = tokenizer.pad_token_id"
      ],
      "metadata": {
        "id": "e62gjJrZOumT"
      },
      "execution_count": 75,
      "outputs": []
    },
    {
      "cell_type": "code",
      "source": [
        "#tokenize the dataset\n",
        "tokenizer.add_special_tokens({'pad_token':'[PAD]'})\n",
        "def formatting_func(examples):\n",
        "  kwargs = {\n",
        "      \"padding\":\"max_length\",\n",
        "      \"truncation\": True,\n",
        "      \"max_length\":256,\n",
        "      \"return_tensors\":\"pt\"\n",
        "  }\n",
        "  #prepend the prompt\n",
        "  prompt_plus_chosen_response = examples[\"prompt\"] +\"\\n\"+examples[\"chosen\"]\n",
        "  prompt_plus_rejected_response = examples[\"prompt\"] +\"\\n\"+examples[\"rejected\"]\n",
        "\n",
        "  #tokenize the prompt\n",
        "  tokenized_prompt_plus_chosen_response = tokenizer(prompt_plus_chosen_response,**kwargs)\n",
        "  tokenized_prompt_plus_rejected_response = tokenizer(prompt_plus_rejected_response,**kwargs)\n",
        "  #tokenizer returns as Tensor with input_ids and attention masks - this is key\n",
        "\n",
        "  return {\n",
        "      \"input_ids_chosen\":tokenized_prompt_plus_chosen_response[\"input_ids\"][0],\n",
        "      \"attention_mask_chosen\":tokenized_prompt_plus_chosen_response[\"attention_mask\"][0], # Corrected key name\n",
        "      \"input_ids_rejected\":tokenized_prompt_plus_rejected_response[\"input_ids\"][0],\n",
        "      \"attention_mask_rejected\":tokenized_prompt_plus_rejected_response[\"attention_mask\"][0], # Corrected key name\n",
        "      }"
      ],
      "metadata": {
        "id": "XLKvMR15Skth"
      },
      "execution_count": 81,
      "outputs": []
    },
    {
      "cell_type": "code",
      "source": [
        "#map the function to data\n",
        "formatted_dataset = raw_dataset.map(formatting_func)\n",
        "formatted_dataset = formatted_dataset.train_test_split(test_size=0.2)"
      ],
      "metadata": {
        "colab": {
          "base_uri": "https://localhost:8080/",
          "height": 49,
          "referenced_widgets": [
            "089fb435f1ac4cffbbb8dfbdf108da7f",
            "036c99e3a5dc4f28b150e8a298138815",
            "29a4f75c7b584dc29f6c03331cb922fe",
            "f3dedbce8b3c4d1383165f0546d18207",
            "d6d3ba9f34ff4ae7899fade8cf563969",
            "de2e4e97253e430ca27a4d662d4e3cbd",
            "d9eafc954de348adb768bf6d4d0b2770",
            "aac83b8363ed474dae06047c1f575e8c",
            "873aaaeadbdf42238103647489cfc98b",
            "3d061de2a7e441b49938b42a622a2a74",
            "3f3a19dbb923449490b857563c493348"
          ]
        },
        "id": "6S95nnIJV5zz",
        "outputId": "ecb577f8-7fcf-46e4-8d27-302f860f134b"
      },
      "execution_count": 77,
      "outputs": [
        {
          "output_type": "display_data",
          "data": {
            "text/plain": [
              "Map:   0%|          | 0/10 [00:00<?, ? examples/s]"
            ],
            "application/vnd.jupyter.widget-view+json": {
              "version_major": 2,
              "version_minor": 0,
              "model_id": "089fb435f1ac4cffbbb8dfbdf108da7f"
            }
          },
          "metadata": {}
        }
      ]
    },
    {
      "cell_type": "code",
      "source": [
        "#create a training pipeline for training\n",
        "training_args = RewardConfig(\n",
        "    output_dir = \"/models/reward_model\",\n",
        "    num_train_epochs = 1,\n",
        "    logging_steps = 10,\n",
        "    gradient_accumulation_steps = 1,\n",
        "    per_device_train_batch_size = 2,\n",
        "    per_device_eval_batch_size = 1,\n",
        "    warmup_steps = 100,\n",
        "    learning_rate = 1e-5,\n",
        "    save_total_limit = 1,\n",
        ")"
      ],
      "metadata": {
        "id": "mrxVQBNiad_0"
      },
      "execution_count": 78,
      "outputs": []
    },
    {
      "cell_type": "code",
      "source": [
        "from trl.trainer.utils import RewardDataCollatorWithPadding\n",
        "\n",
        "#reward trainer uses this loss function internally  -> loss = log(sigmoid(rchosen - rrejected))\n",
        "#training the model now\n",
        "trainer = RewardTrainer(\n",
        "    model = reward_model, # Use the reward_model here\n",
        "    train_dataset = formatted_dataset[\"train\"],\n",
        "    eval_dataset = formatted_dataset[\"test\"],\n",
        "    args = training_args,\n",
        "    data_collator = RewardDataCollatorWithPadding(tokenizer=tokenizer) # Explicitly provide the data collator\n",
        ")\n",
        "trainer.train()"
      ],
      "metadata": {
        "colab": {
          "base_uri": "https://localhost:8080/",
          "height": 111
        },
        "id": "9hEJZF06cizL",
        "outputId": "c96c2d97-eb1e-4656-a26f-fa70adac51fa"
      },
      "execution_count": 83,
      "outputs": [
        {
          "output_type": "display_data",
          "data": {
            "text/plain": [
              "<IPython.core.display.HTML object>"
            ],
            "text/html": [
              "\n",
              "    <div>\n",
              "      \n",
              "      <progress value='4' max='4' style='width:300px; height:20px; vertical-align: middle;'></progress>\n",
              "      [4/4 00:29, Epoch 1/1]\n",
              "    </div>\n",
              "    <table border=\"1\" class=\"dataframe\">\n",
              "  <thead>\n",
              " <tr style=\"text-align: left;\">\n",
              "      <th>Step</th>\n",
              "      <th>Training Loss</th>\n",
              "    </tr>\n",
              "  </thead>\n",
              "  <tbody>\n",
              "  </tbody>\n",
              "</table><p>"
            ]
          },
          "metadata": {}
        },
        {
          "output_type": "execute_result",
          "data": {
            "text/plain": [
              "TrainOutput(global_step=4, training_loss=0.7038838267326355, metrics={'train_runtime': 29.5326, 'train_samples_per_second': 0.271, 'train_steps_per_second': 0.135, 'total_flos': 0.0, 'train_loss': 0.7038838267326355, 'epoch': 1.0})"
            ]
          },
          "metadata": {},
          "execution_count": 83
        }
      ]
    },
    {
      "cell_type": "code",
      "metadata": {
        "id": "126ec74e"
      },
      "source": [
        "print(formatted_dataset[\"train\"].features)"
      ],
      "execution_count": null,
      "outputs": []
    },
    {
      "cell_type": "code",
      "source": [
        "#save the model\n",
        "trainer.save_model(\"/reward_model/\")"
      ],
      "metadata": {
        "id": "1rpJfonHl5YD"
      },
      "execution_count": 87,
      "outputs": []
    },
    {
      "cell_type": "code",
      "source": [
        "!pip install --upgrade trl transformers accelerate"
      ],
      "metadata": {
        "id": "k1PhAOcA3Ih5"
      },
      "execution_count": null,
      "outputs": []
    },
    {
      "cell_type": "code",
      "source": [
        "#Policy Model - THIS POLICY MODEL IS A MODEL WITH VALUE HEAD - VALUE IS A SCALAR VALUE FOR expected cumulative reward from a given state.\n",
        "#MODEL LEARNS THE POLICY AND HOW GOOD THE POLICY IS AS WELL JOINTLY AT SAME TIME . THIS IS APPLICABLE IN CASE WHERE MODEL IS LEARNING BOTH POLICY BUT ALSO HOW\n",
        "#GOOD THE STATE IS\n",
        "import torch\n",
        "import transformers\n",
        "from transformers import pipeline , AutoTokenizer, AutoModelForCausalLM , DataCollatorForLanguageModeling\n",
        "from trl import RewardConfig,RewardTrainer ,SFTTrainer\n",
        "from datasets import Dataset\n",
        "import json\n",
        "import pandas as pd\n",
        "from transformers import Trainer , TrainingArguments\n",
        "from trl import PPOTrainer, PPOConfig, AutoModelForCausalLMWithValueHead, create_reference_model"
      ],
      "metadata": {
        "id": "LwVqML7fnuHC"
      },
      "execution_count": 189,
      "outputs": []
    },
    {
      "cell_type": "code",
      "source": [
        "model_path= \"bigcode/tiny_starcoder_py\"\n",
        "data_path = \"/content/sample_data/test.parquet\""
      ],
      "metadata": {
        "id": "hSVcutcboI0n"
      },
      "execution_count": 190,
      "outputs": []
    },
    {
      "cell_type": "code",
      "source": [
        "df = pd.read_parquet(\"sample_data/test.parquet\")\n",
        "df = df[:1000]\n",
        "raw_dataset = Dataset.from_pandas(df)\n",
        "raw_dataset"
      ],
      "metadata": {
        "colab": {
          "base_uri": "https://localhost:8080/"
        },
        "id": "SQPIi3cVoTyx",
        "outputId": "f0ea7205-165d-46ed-9a38-890cd66bdde9"
      },
      "execution_count": 191,
      "outputs": [
        {
          "output_type": "execute_result",
          "data": {
            "text/plain": [
              "Dataset({\n",
              "    features: ['prompt', 'chosen', 'rejected'],\n",
              "    num_rows: 1000\n",
              "})"
            ]
          },
          "metadata": {},
          "execution_count": 191
        }
      ]
    },
    {
      "cell_type": "code",
      "source": [
        "reward_model_path = \"/reward_model/\"\n",
        "starcoder_model = AutoModelForCausalLMWithValueHead.from_pretrained(\"/content/models/summarization_policy_new/\") # policy model from Step 1\n",
        "starcoder_model_ref = AutoModelForCausalLMWithValueHead.from_pretrained(reward_model_path) #reward model from Step2\n",
        "starcoder_tokenizer = AutoTokenizer.from_pretrained(\"bigcode/tiny_starcoder_py\")\n",
        "\n",
        "# Create and assign generation_config to the policy model\n",
        "#generation_config = GenerationConfig(pad_token_id=starcoder_tokenizer.pad_token_id)\n",
        "#starcoder_model.generation_config = generation_config\n",
        "\n",
        "#tokenizer = AutoTokenizer.from_pretrained(model_path,padding_side=\"left\")\n",
        "#tokenizer.pad_token = tokenizer.eos_token"
      ],
      "metadata": {
        "colab": {
          "base_uri": "https://localhost:8080/"
        },
        "id": "AlHylKLKogKY",
        "outputId": "9e0dd7ed-4b6a-4204-9f52-5b054e7978e6"
      },
      "execution_count": 192,
      "outputs": [
        {
          "output_type": "stream",
          "name": "stderr",
          "text": [
            "The module name  (originally ) is not a valid Python identifier. Please rename the original module to avoid import issues.\n",
            "The module name  (originally ) is not a valid Python identifier. Please rename the original module to avoid import issues.\n"
          ]
        }
      ]
    },
    {
      "cell_type": "code",
      "source": [
        "txt_in_len = 5\n",
        "txt_out_len = 32\n",
        "seed = 1\n",
        "\n",
        "dataset = raw_dataset.map(\n",
        "    lambda x: {\"input_ids\":tokenizer.encode(\" \"+ x[\"chosen\"], return_tensors=\"pt\", truncation = True, padding =\"max_length\",max_length= 32)[0]},batched = False)\n",
        "dataset = dataset.map(lambda x:{\"query\":tokenizer.decode(x[\"input_ids\"])} , batched= False)\n",
        "dataset = dataset[:20480]\n",
        "from datasets import Dataset\n",
        "dataset = Dataset.from_dict(dataset)\n",
        "dataset.set_format(\"pytorch\")"
      ],
      "metadata": {
        "colab": {
          "base_uri": "https://localhost:8080/",
          "height": 81,
          "referenced_widgets": [
            "c9125c01a5af4f3fbd4db2e9fb065bbd",
            "9fca4d8dab6d4e948c16fdb3d0b5f865",
            "247ba317158f4621baeb0a0c054da653",
            "5df28b8cd199416297a98f5efae3ab2f",
            "3d8f50348fd543218410288a9516d671",
            "543fd5f345d742b9a4e9b5b18b518d04",
            "36f18ae3565c4e12b2f59f9fb3c4717c",
            "4cf656df3e284879a80da49b64b70511",
            "0e6c84f1f0ff419ea237cbae3f2a7127",
            "50fc2f32f1bd489f8cac4b1d496136d5",
            "2982de2a715141b49ac37917858074c3",
            "586a980f321d4ea4b902c61bc9b698c7",
            "53f53e1b5eef4e1393c12e59431402ab",
            "2029e17e8c4d4610ad3ab5f4e151d0e9",
            "9e26b036f29045dc8d241de98b05a1b8",
            "a1bdf9cfb30741c6a122b9370676d6ab",
            "da7dcddefed0457c9b8859b54e707d73",
            "dc787d8df26540f4b8020251aef2a533",
            "9566906ae26441cb93ee43cc8ab7a0df",
            "b7ef7973c54a4dfc8165f778d5cb02eb",
            "604e502c6b0f4e7185a0b15c3abec2cd",
            "989eb0736fb64a1ab4a530f5558620a1"
          ]
        },
        "id": "fEm8wz30qDne",
        "outputId": "5b4775a8-2d31-4d34-93cf-bd4620e4091e"
      },
      "execution_count": 193,
      "outputs": [
        {
          "output_type": "display_data",
          "data": {
            "text/plain": [
              "Map:   0%|          | 0/1000 [00:00<?, ? examples/s]"
            ],
            "application/vnd.jupyter.widget-view+json": {
              "version_major": 2,
              "version_minor": 0,
              "model_id": "c9125c01a5af4f3fbd4db2e9fb065bbd"
            }
          },
          "metadata": {}
        },
        {
          "output_type": "display_data",
          "data": {
            "text/plain": [
              "Map:   0%|          | 0/1000 [00:00<?, ? examples/s]"
            ],
            "application/vnd.jupyter.widget-view+json": {
              "version_major": 2,
              "version_minor": 0,
              "model_id": "586a980f321d4ea4b902c61bc9b698c7"
            }
          },
          "metadata": {}
        }
      ]
    },
    {
      "cell_type": "code",
      "source": [
        "dataset"
      ],
      "metadata": {
        "colab": {
          "base_uri": "https://localhost:8080/"
        },
        "id": "PpryVdVgt72J",
        "outputId": "e47b2c71-b753-4ba2-e0a1-e646fd896731"
      },
      "execution_count": 194,
      "outputs": [
        {
          "output_type": "execute_result",
          "data": {
            "text/plain": [
              "Dataset({\n",
              "    features: ['prompt', 'chosen', 'rejected', 'input_ids', 'query'],\n",
              "    num_rows: 1000\n",
              "})"
            ]
          },
          "metadata": {},
          "execution_count": 194
        }
      ]
    },
    {
      "cell_type": "code",
      "source": [
        "def collator(data):\n",
        "  return dict((key,[d[key] for d in data]) for key in data[0])"
      ],
      "metadata": {
        "id": "zIfQ_g7GyooR"
      },
      "execution_count": 195,
      "outputs": []
    },
    {
      "cell_type": "code",
      "source": [
        "pipe_kwargs = {\"top_k\":None , \"function_to_apply\":\"none\"}\n",
        "config = PPOConfig(learning_rate = 1.41e-5)\n",
        "txt_in_len = 5\n",
        "txt_out_len = 20\n",
        "seed = 1"
      ],
      "metadata": {
        "id": "GUhwcFanuf1W"
      },
      "execution_count": 196,
      "outputs": []
    },
    {
      "cell_type": "code",
      "source": [
        "import torch\n",
        "ppo_trainer = PPOTrainer(\n",
        "    config,\n",
        "    starcoder_model, # model (policy)\n",
        "    starcoder_model_ref, # ref_model\n",
        "    starcoder_tokenizer, # tokenizer\n",
        "    dataset,  # train_dataset\n",
        "    collator, # data_collator\n",
        "    reward_model, # reward_model\n",
        "    starcoder_model # value_model\n",
        ")"
      ],
      "metadata": {
        "id": "sMrxOSFJvq2A"
      },
      "execution_count": null,
      "outputs": []
    }
  ]
}